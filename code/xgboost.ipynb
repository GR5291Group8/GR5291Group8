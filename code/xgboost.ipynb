{
 "cells": [
  {
   "cell_type": "code",
   "execution_count": 48,
   "metadata": {},
   "outputs": [],
   "source": [
    "import statistics\n",
    "import pandas as pd\n",
    "from xgboost import XGBRegressor\n",
    "from sklearn.model_selection import train_test_split\n",
    "from sklearn.model_selection import GridSearchCV\n",
    "import numpy as np\n",
    "import matplotlib.pyplot as plt"
   ]
  },
  {
   "cell_type": "code",
   "execution_count": 49,
   "metadata": {},
   "outputs": [],
   "source": [
    "df_vote_average = pd.read_csv(\"~/Documents/GR5291Project/Data/cleaned_movie_data_vote_average.csv\")"
   ]
  },
  {
   "cell_type": "code",
   "execution_count": 50,
   "metadata": {},
   "outputs": [],
   "source": [
    "y_vote_average = df_vote_average[df_vote_average.columns[0]]\n",
    "X_vote_average = df_vote_average[df_vote_average.columns[1:len(Y_vote_average)+1]]"
   ]
  },
  {
   "cell_type": "code",
   "execution_count": 51,
   "metadata": {},
   "outputs": [],
   "source": [
    "# split data into training data 75%, test data 25%\n",
    "seed = 123\n",
    "test_size = 0.25\n",
    "X_vote_average_train, X_vote_average_test, y_vote_average_train, y_vote_average_test = train_test_split(X_vote_average, y_vote_average, test_size=test_size, random_state=seed)"
   ]
  },
  {
   "cell_type": "code",
   "execution_count": 77,
   "metadata": {},
   "outputs": [],
   "source": [
    "# tune parameters\n",
    "model = XGBRegressor()\n",
    "n_estimators = [50, 100, 150, 200]\n",
    "max_depth = [3, 5, 7, 9, 11]\n",
    "param_grid = dict(max_depth=max_depth, n_estimators=n_estimators)\n",
    "grid_search = GridSearchCV(model, param_grid, scoring=\"neg_mean_squared_error\", cv=5, n_jobs = -1)\n",
    "grid_result = grid_search.fit(X_vote_average_train, y_vote_average_train)"
   ]
  },
  {
   "cell_type": "code",
   "execution_count": 78,
   "metadata": {},
   "outputs": [
    {
     "name": "stdout",
     "output_type": "stream",
     "text": [
      "Best: -0.440245 using {'max_depth': 3, 'n_estimators': 200}\n"
     ]
    }
   ],
   "source": [
    "print(\"Best: %f using %s\" % (grid_result.best_score_, grid_result.best_params_))"
   ]
  },
  {
   "cell_type": "code",
   "execution_count": 79,
   "metadata": {},
   "outputs": [
    {
     "name": "stdout",
     "output_type": "stream",
     "text": [
      "-0.464329 (0.007143) with: {'max_depth': 3, 'n_estimators': 50}\n",
      "-0.444164 (0.005791) with: {'max_depth': 3, 'n_estimators': 100}\n",
      "-0.441058 (0.007395) with: {'max_depth': 3, 'n_estimators': 150}\n",
      "-0.440245 (0.008523) with: {'max_depth': 3, 'n_estimators': 200}\n",
      "-0.452198 (0.005452) with: {'max_depth': 5, 'n_estimators': 50}\n",
      "-0.444410 (0.007200) with: {'max_depth': 5, 'n_estimators': 100}\n",
      "-0.446923 (0.007245) with: {'max_depth': 5, 'n_estimators': 150}\n",
      "-0.449318 (0.007285) with: {'max_depth': 5, 'n_estimators': 200}\n",
      "-0.450749 (0.006470) with: {'max_depth': 7, 'n_estimators': 50}\n",
      "-0.444947 (0.004712) with: {'max_depth': 7, 'n_estimators': 100}\n",
      "-0.445935 (0.005381) with: {'max_depth': 7, 'n_estimators': 150}\n",
      "-0.448101 (0.006041) with: {'max_depth': 7, 'n_estimators': 200}\n",
      "-0.455305 (0.004559) with: {'max_depth': 9, 'n_estimators': 50}\n",
      "-0.453099 (0.002731) with: {'max_depth': 9, 'n_estimators': 100}\n",
      "-0.453989 (0.003755) with: {'max_depth': 9, 'n_estimators': 150}\n",
      "-0.455800 (0.003917) with: {'max_depth': 9, 'n_estimators': 200}\n",
      "-0.459581 (0.006438) with: {'max_depth': 11, 'n_estimators': 50}\n",
      "-0.456520 (0.007817) with: {'max_depth': 11, 'n_estimators': 100}\n",
      "-0.457733 (0.007655) with: {'max_depth': 11, 'n_estimators': 150}\n",
      "-0.458308 (0.007650) with: {'max_depth': 11, 'n_estimators': 200}\n"
     ]
    },
    {
     "data": {
      "text/plain": [
       "Text(0,0.5,'MAE')"
      ]
     },
     "execution_count": 79,
     "metadata": {},
     "output_type": "execute_result"
    },
    {
     "data": {
      "image/png": "[encoded data removed]",
      "text/plain": [
       "<matplotlib.figure.Figure at 0x1a133d3048>"
      ]
     },
     "metadata": {
      "needs_background": "light"
     },
     "output_type": "display_data"
    }
   ],
   "source": [
    "means = grid_result.cv_results_['mean_test_score']\n",
    "stds = grid_result.cv_results_['std_test_score']\n",
    "params = grid_result.cv_results_['params']\n",
    "for mean, stdev, param in zip(means, stds, params):\n",
    "\tprint(\"%f (%f) with: %r\" % (mean, stdev, param))\n",
    "# plot results\n",
    "scores = np.array(means).reshape(len(max_depth), len(n_estimators))\n",
    "for i, value in enumerate(max_depth):\n",
    "    plt.plot(n_estimators, scores[i], label='depth: ' + str(value))\n",
    "plt.legend()\n",
    "plt.xlabel('n_estimators')\n",
    "plt.ylabel('MAE')"
   ]
  },
  {
   "cell_type": "code",
   "execution_count": 126,
   "metadata": {},
   "outputs": [],
   "source": [
    "#fit best model\n",
    "best_model = XGBRegressor(base_score=0.5, booster='gbtree', colsample_bylevel=1,\n",
    "       colsample_bytree=1, gamma=0, learning_rate=0.1, max_delta_step=0,\n",
    "       max_depth=3, min_child_weight=1, missing=None, n_estimators=200,\n",
    "       n_jobs=1, nthread=None, objective='reg:linear', random_state=0,\n",
    "       reg_alpha=0, reg_lambda=1, scale_pos_weight=1, seed=None,\n",
    "       silent=True, subsample=1)"
   ]
  },
  {
   "cell_type": "code",
   "execution_count": 127,
   "metadata": {},
   "outputs": [
    {
     "data": {
      "text/plain": [
       "0.059022925814498584"
      ]
     },
     "execution_count": 127,
     "metadata": {},
     "output_type": "execute_result"
    }
   ],
   "source": [
    "# training error of best model(MAPE)\n",
    "best_model.fit(X_vote_average_train, y_vote_average_train)\n",
    "y_vote_average_pred_train = best_model.predict(X_vote_average_train)\n",
    "statistics.mean(abs((y_vote_average_pred_train-y_vote_average_train)/y_vote_average_train))"
   ]
  },
  {
   "cell_type": "code",
   "execution_count": 128,
   "metadata": {},
   "outputs": [
    {
     "data": {
      "text/plain": [
       "0.078309812225492645"
      ]
     },
     "execution_count": 128,
     "metadata": {},
     "output_type": "execute_result"
    }
   ],
   "source": [
    "# test error of best model(MAPE)\n",
    "best_model.fit(X_vote_average_train, y_vote_average_train)\n",
    "y_vote_average_pred = best_model.predict(X_vote_average_test)\n",
    "statistics.mean(abs((y_vote_average_pred-y_vote_average_test)/y_vote_average_test))"
   ]
  },
  {
   "cell_type": "markdown",
   "metadata": {},
   "source": [
    "# source: https://machinelearningmastery.com/tune-number-size-decision-trees-xgboost-python/"
   ]
  },
  {
   "cell_type": "code",
   "execution_count": null,
   "metadata": {},
   "outputs": [],
   "source": []
  }
 ],
 "metadata": {
  "kernelspec": {
   "display_name": "Python 3",
   "language": "python",
   "name": "python3"
  },
  "language_info": {
   "codemirror_mode": {
    "name": "ipython",
    "version": 3
   },
   "file_extension": ".py",
   "mimetype": "text/x-python",
   "name": "python",
   "nbconvert_exporter": "python",
   "pygments_lexer": "ipython3",
   "version": "3.6.3"
  }
 },
 "nbformat": 4,
 "nbformat_minor": 2
}
