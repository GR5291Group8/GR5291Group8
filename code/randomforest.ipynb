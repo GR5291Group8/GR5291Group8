{
 "cells": [
  {
   "cell_type": "code",
   "execution_count": 1,
   "metadata": {},
   "outputs": [],
   "source": [
    "import statistics\n",
    "import numpy as np\n",
    "import pandas as pd\n",
    "from sklearn.ensemble import RandomForestRegressor\n",
    "from sklearn.model_selection import train_test_split\n",
    "from sklearn.model_selection import GridSearchCV\n",
    "import matplotlib.pyplot as plt\n",
    "import seaborn as sns\n",
    "%matplotlib inline\n",
    "sns.set(style=\"white\", font_scale=0.9)"
   ]
  },
  {
   "cell_type": "code",
   "execution_count": 3,
   "metadata": {},
   "outputs": [],
   "source": [
    "df_vote_average = pd.read_csv(\"/Users/iris/Desktop/GR5291Group8-master/Data/cleaned_movie_data_vote_average.csv\")"
   ]
  },
  {
   "cell_type": "code",
   "execution_count": 4,
   "metadata": {},
   "outputs": [],
   "source": [
    "Y_vote_average = df_vote_average[df_vote_average.columns[0]]\n",
    "X_vote_average = df_vote_average[df_vote_average.columns[1:len(Y_vote_average)+1]]"
   ]
  },
  {
   "cell_type": "code",
   "execution_count": 5,
   "metadata": {},
   "outputs": [],
   "source": [
    "# split data into training data 75%, test data 25%\n",
    "seed = 123\n",
    "test_size = 0.25\n",
    "X_vote_average_train, X_vote_average_test, y_vote_average_train, y_vote_average_test = train_test_split(X_vote_average, Y_vote_average, test_size=test_size, random_state=seed)"
   ]
  },
  {
   "cell_type": "code",
   "execution_count": 17,
   "metadata": {},
   "outputs": [
    {
     "name": "stdout",
     "output_type": "stream",
     "text": [
      "-0.353760628601\n",
      "{'max_depth': 11, 'n_estimators': 200}\n"
     ]
    }
   ],
   "source": [
    "# tune parameter\n",
    "param_grid = {\"n_estimators\": [50, 100, 150, 200],\n",
    "    \"max_depth\": [3, 5, 7, 9, 11],\n",
    "    #\"max_features\": [5, 7, 10, 13],\n",
    "    #\"min_samples_split\": [2, 5, 10],\n",
    "    #\"min_samples_leaf\": [1, 3, 10],\n",
    "    #\"bootstrap\": [True, False]\n",
    "             }\n",
    "\n",
    "model = RandomForestRegressor(random_state=0)\n",
    "grid = GridSearchCV(estimator=model, param_grid=param_grid, scoring=\"neg_mean_squared_error\", cv=5, n_jobs=-1)\n",
    "grid.fit(X_vote_average_train, y_vote_average_train)\n",
    "\n",
    "print(grid.best_score_)\n",
    "print(grid.best_params_)"
   ]
  },
  {
   "cell_type": "code",
   "execution_count": 18,
   "metadata": {},
   "outputs": [
    {
     "name": "stdout",
     "output_type": "stream",
     "text": [
      "Best: -0.353761 using {'max_depth': 11, 'n_estimators': 200}\n"
     ]
    }
   ],
   "source": [
    "print(\"Best: %f using %s\" % (grid.best_score_, grid.best_params_))"
   ]
  },
  {
   "cell_type": "code",
   "execution_count": 19,
   "metadata": {},
   "outputs": [
    {
     "name": "stdout",
     "output_type": "stream",
     "text": [
      "-0.453597 (0.014611) with: {'max_depth': 3, 'n_estimators': 50}\n",
      "-0.452029 (0.016990) with: {'max_depth': 3, 'n_estimators': 100}\n",
      "-0.450673 (0.016957) with: {'max_depth': 3, 'n_estimators': 150}\n",
      "-0.450750 (0.017135) with: {'max_depth': 3, 'n_estimators': 200}\n",
      "-0.397946 (0.012634) with: {'max_depth': 5, 'n_estimators': 50}\n",
      "-0.396291 (0.012666) with: {'max_depth': 5, 'n_estimators': 100}\n",
      "-0.395343 (0.011765) with: {'max_depth': 5, 'n_estimators': 150}\n",
      "-0.395526 (0.011929) with: {'max_depth': 5, 'n_estimators': 200}\n",
      "-0.371780 (0.010418) with: {'max_depth': 7, 'n_estimators': 50}\n",
      "-0.369766 (0.009269) with: {'max_depth': 7, 'n_estimators': 100}\n",
      "-0.368442 (0.008076) with: {'max_depth': 7, 'n_estimators': 150}\n",
      "-0.368023 (0.008972) with: {'max_depth': 7, 'n_estimators': 200}\n",
      "-0.363160 (0.009731) with: {'max_depth': 9, 'n_estimators': 50}\n",
      "-0.359624 (0.009187) with: {'max_depth': 9, 'n_estimators': 100}\n",
      "-0.357874 (0.008017) with: {'max_depth': 9, 'n_estimators': 150}\n",
      "-0.357548 (0.008452) with: {'max_depth': 9, 'n_estimators': 200}\n",
      "-0.361134 (0.009946) with: {'max_depth': 11, 'n_estimators': 50}\n",
      "-0.356680 (0.008136) with: {'max_depth': 11, 'n_estimators': 100}\n",
      "-0.354244 (0.007755) with: {'max_depth': 11, 'n_estimators': 150}\n",
      "-0.353761 (0.008356) with: {'max_depth': 11, 'n_estimators': 200}\n"
     ]
    },
    {
     "data": {
      "text/plain": [
       "Text(0,0.5,'MSE')"
      ]
     },
     "execution_count": 19,
     "metadata": {},
     "output_type": "execute_result"
    },
    {
     "data": {
      "image/png": "[encoded data removed]",
      "text/plain": [
       "<matplotlib.figure.Figure at 0x104d4b0b8>"
      ]
     },
     "metadata": {
      "needs_background": "light"
     },
     "output_type": "display_data"
    }
   ],
   "source": [
    "means = grid.cv_results_['mean_test_score']\n",
    "stds = grid.cv_results_['std_test_score']\n",
    "params = grid.cv_results_['params']\n",
    "for mean, stdev, param in zip(means, stds, params):\n",
    "\tprint(\"%f (%f) with: %r\" % (mean, stdev, param))\n",
    "# plot results\n",
    "scores = np.array(means).reshape(len(max_depth), len(n_estimators))\n",
    "for i, value in enumerate(max_depth):\n",
    "    plt.plot(n_estimators, scores[i]*(-1), label='depth: ' + str(value))\n",
    "plt.legend()\n",
    "plt.xlabel('n_estimators')\n",
    "plt.ylabel('MSE')"
   ]
  },
  {
   "cell_type": "code",
   "execution_count": 20,
   "metadata": {},
   "outputs": [],
   "source": [
    "#fit best model\n",
    "best_model = RandomForestRegressor(max_depth=11, n_estimators=200)"
   ]
  },
  {
   "cell_type": "code",
   "execution_count": 21,
   "metadata": {},
   "outputs": [
    {
     "data": {
      "text/plain": [
       "0.047174022691246126"
      ]
     },
     "execution_count": 21,
     "metadata": {},
     "output_type": "execute_result"
    }
   ],
   "source": [
    "# training error of best model(MAPE)\n",
    "best_model.fit(X_vote_average_train, y_vote_average_train)\n",
    "y_vote_average_pred_train = best_model.predict(X_vote_average_train)\n",
    "statistics.mean(abs((y_vote_average_pred_train-y_vote_average_train)/y_vote_average_train))"
   ]
  },
  {
   "cell_type": "code",
   "execution_count": 24,
   "metadata": {},
   "outputs": [
    {
     "data": {
      "text/plain": [
       "0.08200658526562131"
      ]
     },
     "execution_count": 24,
     "metadata": {},
     "output_type": "execute_result"
    }
   ],
   "source": [
    "# test error of best model(MAPE)\n",
    "best_model.fit(X_vote_average_train, y_vote_average_train)\n",
    "y_vote_average_pred = best_model.predict(X_vote_average_test)\n",
    "statistics.mean(abs((y_vote_average_pred-y_vote_average_test)/y_vote_average_test))"
   ]
  },
  {
   "cell_type": "code",
   "execution_count": 26,
   "metadata": {},
   "outputs": [
    {
     "data": {
      "image/png": "[encoded data removed]",
      "text/plain": [
       "<matplotlib.figure.Figure at 0x1a0d233ac8>"
      ]
     },
     "metadata": {
      "needs_background": "light"
     },
     "output_type": "display_data"
    }
   ],
   "source": [
    "#plot the predicted values against the actual values\n",
    "plt.scatter(x=y_vote_average_pred, y=y_vote_average_test)\n",
    "plt.xlim([4,9])\n",
    "plt.ylim([4,9])\n",
    "plt.plot([4,9],[4,9])\n",
    "plt.xlabel('random_forest_test_actual')\n",
    "plt.ylabel('random_forest_test_predict')\n",
    "plt.show()"
   ]
  },
  {
   "cell_type": "code",
   "execution_count": 27,
   "metadata": {},
   "outputs": [
    {
     "data": {
      "text/html": [
       "<div>\n",
       "<style>\n",
       "    .dataframe thead tr:only-child th {\n",
       "        text-align: right;\n",
       "    }\n",
       "\n",
       "    .dataframe thead th {\n",
       "        text-align: left;\n",
       "    }\n",
       "\n",
       "    .dataframe tbody tr th {\n",
       "        vertical-align: top;\n",
       "    }\n",
       "</style>\n",
       "<table border=\"1\" class=\"dataframe\">\n",
       "  <thead>\n",
       "    <tr style=\"text-align: right;\">\n",
       "      <th></th>\n",
       "      <th>vote_count</th>\n",
       "      <th>runtime</th>\n",
       "      <th>year</th>\n",
       "      <th>Drama</th>\n",
       "      <th>month</th>\n",
       "      <th>minority_studios</th>\n",
       "      <th>Action</th>\n",
       "      <th>majority_studios</th>\n",
       "      <th>Documentary</th>\n",
       "      <th>Science.Fiction</th>\n",
       "      <th>...</th>\n",
       "      <th>History</th>\n",
       "      <th>L32</th>\n",
       "      <th>L53</th>\n",
       "      <th>L14</th>\n",
       "      <th>L27</th>\n",
       "      <th>L10</th>\n",
       "      <th>L50</th>\n",
       "      <th>L6</th>\n",
       "      <th>L54</th>\n",
       "      <th>Foreign</th>\n",
       "    </tr>\n",
       "  </thead>\n",
       "  <tbody>\n",
       "    <tr>\n",
       "      <th>values</th>\n",
       "      <td>0.311287</td>\n",
       "      <td>0.185883</td>\n",
       "      <td>0.135936</td>\n",
       "      <td>0.114448</td>\n",
       "      <td>0.037169</td>\n",
       "      <td>0.029873</td>\n",
       "      <td>0.016711</td>\n",
       "      <td>0.014018</td>\n",
       "      <td>0.012749</td>\n",
       "      <td>0.011242</td>\n",
       "      <td>...</td>\n",
       "      <td>0.00181</td>\n",
       "      <td>0.001418</td>\n",
       "      <td>0.001155</td>\n",
       "      <td>0.000737</td>\n",
       "      <td>0.000635</td>\n",
       "      <td>0.000356</td>\n",
       "      <td>0.000278</td>\n",
       "      <td>0.000277</td>\n",
       "      <td>0.000222</td>\n",
       "      <td>0.000143</td>\n",
       "    </tr>\n",
       "  </tbody>\n",
       "</table>\n",
       "<p>1 rows × 41 columns</p>\n",
       "</div>"
      ],
      "text/plain": [
       "        vote_count   runtime      year     Drama     month  minority_studios  \\\n",
       "values    0.311287  0.185883  0.135936  0.114448  0.037169          0.029873   \n",
       "\n",
       "          Action  majority_studios  Documentary  Science.Fiction    ...     \\\n",
       "values  0.016711          0.014018     0.012749         0.011242    ...      \n",
       "\n",
       "        History       L32       L53       L14       L27       L10       L50  \\\n",
       "values  0.00181  0.001418  0.001155  0.000737  0.000635  0.000356  0.000278   \n",
       "\n",
       "              L6       L54   Foreign  \n",
       "values  0.000277  0.000222  0.000143  \n",
       "\n",
       "[1 rows x 41 columns]"
      ]
     },
     "execution_count": 27,
     "metadata": {},
     "output_type": "execute_result"
    }
   ],
   "source": [
    "# Interpreting the model\n",
    "feature_import = pd.DataFrame(data=best_model.feature_importances_, index=X_vote_average.columns.values, columns=['values'])\n",
    "feature_import.sort_values(['values'], ascending=False, inplace=True)\n",
    "feature_import.transpose()"
   ]
  },
  {
   "cell_type": "code",
   "execution_count": 28,
   "metadata": {},
   "outputs": [
    {
     "data": {
      "text/html": [
       "<div>\n",
       "<style>\n",
       "    .dataframe thead tr:only-child th {\n",
       "        text-align: right;\n",
       "    }\n",
       "\n",
       "    .dataframe thead th {\n",
       "        text-align: left;\n",
       "    }\n",
       "\n",
       "    .dataframe tbody tr th {\n",
       "        vertical-align: top;\n",
       "    }\n",
       "</style>\n",
       "<table border=\"1\" class=\"dataframe\">\n",
       "  <thead>\n",
       "    <tr style=\"text-align: right;\">\n",
       "      <th></th>\n",
       "      <th>values</th>\n",
       "    </tr>\n",
       "  </thead>\n",
       "  <tbody>\n",
       "    <tr>\n",
       "      <th>vote_count</th>\n",
       "      <td>0.311287</td>\n",
       "    </tr>\n",
       "    <tr>\n",
       "      <th>runtime</th>\n",
       "      <td>0.185883</td>\n",
       "    </tr>\n",
       "    <tr>\n",
       "      <th>year</th>\n",
       "      <td>0.135936</td>\n",
       "    </tr>\n",
       "    <tr>\n",
       "      <th>Drama</th>\n",
       "      <td>0.114448</td>\n",
       "    </tr>\n",
       "    <tr>\n",
       "      <th>month</th>\n",
       "      <td>0.037169</td>\n",
       "    </tr>\n",
       "    <tr>\n",
       "      <th>minority_studios</th>\n",
       "      <td>0.029873</td>\n",
       "    </tr>\n",
       "    <tr>\n",
       "      <th>Action</th>\n",
       "      <td>0.016711</td>\n",
       "    </tr>\n",
       "    <tr>\n",
       "      <th>majority_studios</th>\n",
       "      <td>0.014018</td>\n",
       "    </tr>\n",
       "    <tr>\n",
       "      <th>Documentary</th>\n",
       "      <td>0.012749</td>\n",
       "    </tr>\n",
       "    <tr>\n",
       "      <th>Science.Fiction</th>\n",
       "      <td>0.011242</td>\n",
       "    </tr>\n",
       "    <tr>\n",
       "      <th>Adventure</th>\n",
       "      <td>0.010544</td>\n",
       "    </tr>\n",
       "    <tr>\n",
       "      <th>Comedy</th>\n",
       "      <td>0.010453</td>\n",
       "    </tr>\n",
       "    <tr>\n",
       "      <th>L15</th>\n",
       "      <td>0.010225</td>\n",
       "    </tr>\n",
       "    <tr>\n",
       "      <th>Thriller</th>\n",
       "      <td>0.009728</td>\n",
       "    </tr>\n",
       "    <tr>\n",
       "      <th>Horror</th>\n",
       "      <td>0.009251</td>\n",
       "    </tr>\n",
       "  </tbody>\n",
       "</table>\n",
       "</div>"
      ],
      "text/plain": [
       "                    values\n",
       "vote_count        0.311287\n",
       "runtime           0.185883\n",
       "year              0.135936\n",
       "Drama             0.114448\n",
       "month             0.037169\n",
       "minority_studios  0.029873\n",
       "Action            0.016711\n",
       "majority_studios  0.014018\n",
       "Documentary       0.012749\n",
       "Science.Fiction   0.011242\n",
       "Adventure         0.010544\n",
       "Comedy            0.010453\n",
       "L15               0.010225\n",
       "Thriller          0.009728\n",
       "Horror            0.009251"
      ]
     },
     "execution_count": 28,
     "metadata": {},
     "output_type": "execute_result"
    }
   ],
   "source": [
    "feature_import.iloc[0:15,:]"
   ]
  },
  {
   "cell_type": "code",
   "execution_count": 29,
   "metadata": {},
   "outputs": [
    {
     "data": {
      "image/png": "[encoded data removed]",
      "text/plain": [
       "<matplotlib.figure.Figure at 0x105a30160>"
      ]
     },
     "metadata": {
      "needs_background": "light"
     },
     "output_type": "display_data"
    }
   ],
   "source": [
    "plt.figure(figsize=(16,8))\n",
    "feature_import=feature_import.iloc[0:15,:]\n",
    "feature_import.reset_index(level=0, inplace=True)\n",
    "sns.barplot(x='index', y='values', data=feature_import, palette='deep')\n",
    "plt.show()"
   ]
  },
  {
   "cell_type": "code",
   "execution_count": null,
   "metadata": {},
   "outputs": [],
   "source": []
  }
 ],
 "metadata": {
  "kernelspec": {
   "display_name": "Python 3",
   "language": "python",
   "name": "python3"
  },
  "language_info": {
   "codemirror_mode": {
    "name": "ipython",
    "version": 3
   },
   "file_extension": ".py",
   "mimetype": "text/x-python",
   "name": "python",
   "nbconvert_exporter": "python",
   "pygments_lexer": "ipython3",
   "version": "3.6.3"
  }
 },
 "nbformat": 4,
 "nbformat_minor": 2
}
