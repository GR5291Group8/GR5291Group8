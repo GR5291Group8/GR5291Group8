{
 "cells": [
  {
   "cell_type": "code",
   "execution_count": 14,
   "metadata": {},
   "outputs": [],
   "source": [
    "import statistics\n",
    "import numpy as np\n",
    "import pandas as pd\n",
    "from sklearn.ensemble import RandomForestRegressor\n",
    "from sklearn.model_selection import train_test_split\n",
    "from sklearn.model_selection import GridSearchCV\n",
    "import matplotlib.pyplot as plt"
   ]
  },
  {
   "cell_type": "code",
   "execution_count": 15,
   "metadata": {},
   "outputs": [],
   "source": [
    "df_vote_average = pd.read_csv(\"/Users/iris/Desktop/GR5291Group8-master/Data/cleaned_movie_data_vote_average.csv\")"
   ]
  },
  {
   "cell_type": "code",
   "execution_count": 16,
   "metadata": {},
   "outputs": [],
   "source": [
    "Y_vote_average = df_vote_average[df_vote_average.columns[0]]\n",
    "X_vote_average = df_vote_average[df_vote_average.columns[1:len(Y_vote_average)+1]]"
   ]
  },
  {
   "cell_type": "code",
   "execution_count": 17,
   "metadata": {},
   "outputs": [],
   "source": [
    "# split data into training data 75%, test data 25%\n",
    "seed = 123\n",
    "test_size = 0.25\n",
    "X_vote_average_train, X_vote_average_test, y_vote_average_train, y_vote_average_test = train_test_split(X_vote_average, Y_vote_average, test_size=test_size, random_state=seed)"
   ]
  },
  {
   "cell_type": "code",
   "execution_count": 18,
   "metadata": {},
   "outputs": [],
   "source": [
    "# tune parameters\n",
    "model = RandomForestRegressor()\n",
    "n_estimators = [50, 100, 150, 200]\n",
    "max_depth = [3, 5, 7, 9, 11]\n",
    "param_grid = dict(max_depth=max_depth, n_estimators=n_estimators)\n",
    "grid_search = GridSearchCV(model, param_grid, scoring=\"neg_mean_squared_error\", cv=5, n_jobs = -1)\n",
    "grid_result = grid_search.fit(X_vote_average_train, y_vote_average_train)"
   ]
  },
  {
   "cell_type": "code",
   "execution_count": 20,
   "metadata": {},
   "outputs": [
    {
     "name": "stdout",
     "output_type": "stream",
     "text": [
      "Best: -0.352187 using {'max_depth': 11, 'n_estimators': 200}\n"
     ]
    }
   ],
   "source": [
    "print(\"Best: %f using %s\" % (grid_result.best_score_, grid_result.best_params_))"
   ]
  },
  {
   "cell_type": "code",
   "execution_count": 21,
   "metadata": {},
   "outputs": [
    {
     "name": "stdout",
     "output_type": "stream",
     "text": [
      "-0.451823 (0.014535) with: {'max_depth': 3, 'n_estimators': 50}\n",
      "-0.450992 (0.015942) with: {'max_depth': 3, 'n_estimators': 100}\n",
      "-0.450512 (0.015480) with: {'max_depth': 3, 'n_estimators': 150}\n",
      "-0.450473 (0.015317) with: {'max_depth': 3, 'n_estimators': 200}\n",
      "-0.395005 (0.012460) with: {'max_depth': 5, 'n_estimators': 50}\n",
      "-0.396001 (0.013081) with: {'max_depth': 5, 'n_estimators': 100}\n",
      "-0.394806 (0.013222) with: {'max_depth': 5, 'n_estimators': 150}\n",
      "-0.395270 (0.011913) with: {'max_depth': 5, 'n_estimators': 200}\n",
      "-0.371748 (0.008594) with: {'max_depth': 7, 'n_estimators': 50}\n",
      "-0.370553 (0.008416) with: {'max_depth': 7, 'n_estimators': 100}\n",
      "-0.369622 (0.009798) with: {'max_depth': 7, 'n_estimators': 150}\n",
      "-0.368880 (0.009995) with: {'max_depth': 7, 'n_estimators': 200}\n",
      "-0.358108 (0.008108) with: {'max_depth': 9, 'n_estimators': 50}\n",
      "-0.359240 (0.008913) with: {'max_depth': 9, 'n_estimators': 100}\n",
      "-0.355886 (0.007860) with: {'max_depth': 9, 'n_estimators': 150}\n",
      "-0.356153 (0.008457) with: {'max_depth': 9, 'n_estimators': 200}\n",
      "-0.356745 (0.011714) with: {'max_depth': 11, 'n_estimators': 50}\n",
      "-0.354521 (0.006157) with: {'max_depth': 11, 'n_estimators': 100}\n",
      "-0.353378 (0.007354) with: {'max_depth': 11, 'n_estimators': 150}\n",
      "-0.352187 (0.007422) with: {'max_depth': 11, 'n_estimators': 200}\n"
     ]
    },
    {
     "data": {
      "text/plain": [
       "Text(0,0.5,'MAE')"
      ]
     },
     "execution_count": 21,
     "metadata": {},
     "output_type": "execute_result"
    },
    {
     "data": {
      "image/png": "[encoded data removed]",
      "text/plain": [
       "<Figure size 432x288 with 1 Axes>"
      ]
     },
     "metadata": {},
     "output_type": "display_data"
    }
   ],
   "source": [
    "means = grid_result.cv_results_['mean_test_score']\n",
    "stds = grid_result.cv_results_['std_test_score']\n",
    "params = grid_result.cv_results_['params']\n",
    "for mean, stdev, param in zip(means, stds, params):\n",
    "\tprint(\"%f (%f) with: %r\" % (mean, stdev, param))\n",
    "# plot results\n",
    "scores = np.array(means).reshape(len(max_depth), len(n_estimators))\n",
    "for i, value in enumerate(max_depth):\n",
    "    plt.plot(n_estimators, scores[i], label='depth: ' + str(value))\n",
    "plt.legend()\n",
    "plt.xlabel('n_estimators')\n",
    "plt.ylabel('MAE')"
   ]
  },
  {
   "cell_type": "code",
   "execution_count": 23,
   "metadata": {},
   "outputs": [],
   "source": [
    "#fit best model\n",
    "best_model = RandomForestRegressor(max_depth=11, n_estimators=200)"
   ]
  },
  {
   "cell_type": "code",
   "execution_count": 24,
   "metadata": {},
   "outputs": [
    {
     "data": {
      "text/plain": [
       "0.047167358162751825"
      ]
     },
     "execution_count": 24,
     "metadata": {},
     "output_type": "execute_result"
    }
   ],
   "source": [
    "# training error of best model(MAPE)\n",
    "best_model.fit(X_vote_average_train, y_vote_average_train)\n",
    "y_vote_average_pred_train = best_model.predict(X_vote_average_train)\n",
    "statistics.mean(abs((y_vote_average_pred_train-y_vote_average_train)/y_vote_average_train))"
   ]
  },
  {
   "cell_type": "code",
   "execution_count": 25,
   "metadata": {},
   "outputs": [
    {
     "data": {
      "text/plain": [
       "0.08198795812608042"
      ]
     },
     "execution_count": 25,
     "metadata": {},
     "output_type": "execute_result"
    }
   ],
   "source": [
    "# test error of best model(MAPE)\n",
    "best_model.fit(X_vote_average_train, y_vote_average_train)\n",
    "y_vote_average_pred = best_model.predict(X_vote_average_test)\n",
    "statistics.mean(abs((y_vote_average_pred-y_vote_average_test)/y_vote_average_test))"
   ]
  }
 ],
 "metadata": {
  "kernelspec": {
   "display_name": "Python 3",
   "language": "python",
   "name": "python3"
  },
  "language_info": {
   "codemirror_mode": {
    "name": "ipython",
    "version": 3
   },
   "file_extension": ".py",
   "mimetype": "text/x-python",
   "name": "python",
   "nbconvert_exporter": "python",
   "pygments_lexer": "ipython3",
   "version": "3.6.5"
  }
 },
 "nbformat": 4,
 "nbformat_minor": 2
}
