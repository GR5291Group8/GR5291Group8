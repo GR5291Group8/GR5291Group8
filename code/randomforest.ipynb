{
 "cells": [
  {
   "cell_type": "code",
   "execution_count": 64,
   "metadata": {},
   "outputs": [],
   "source": [
    "import statistics\n",
    "import numpy as np\n",
    "import pandas as pd\n",
    "from sklearn.ensemble import RandomForestRegressor\n",
    "from sklearn.model_selection import train_test_split\n",
    "from sklearn.model_selection import GridSearchCV\n",
    "import matplotlib.pyplot as plt\n",
    "import seaborn as sns\n",
    "\n",
    "%matplotlib inline\n",
    "sns.set(style=\"white\", font_scale=0.9)"
   ]
  },
  {
   "cell_type": "code",
   "execution_count": 44,
   "metadata": {},
   "outputs": [],
   "source": [
    "df_vote_average = pd.read_csv(\"/Users/iris/Desktop/GR5291Group8-master/Data/cleaned_movie_data_vote_average.csv\")"
   ]
  },
  {
   "cell_type": "code",
   "execution_count": 45,
   "metadata": {},
   "outputs": [],
   "source": [
    "Y_vote_average = df_vote_average[df_vote_average.columns[0]]\n",
    "X_vote_average = df_vote_average[df_vote_average.columns[1:len(Y_vote_average)+1]]"
   ]
  },
  {
   "cell_type": "code",
   "execution_count": 46,
   "metadata": {},
   "outputs": [],
   "source": [
    "# split data into training data 75%, test data 25%\n",
    "seed = 123\n",
    "test_size = 0.25\n",
    "X_vote_average_train, X_vote_average_test, y_vote_average_train, y_vote_average_test = train_test_split(X_vote_average, Y_vote_average, test_size=test_size, random_state=seed)"
   ]
  },
  {
   "cell_type": "code",
   "execution_count": 74,
   "metadata": {},
   "outputs": [
    {
     "name": "stdout",
     "output_type": "stream",
     "text": [
      "0.5042808779197315\n",
      "{'bootstrap': True, 'max_depth': 11, 'max_features': 13, 'min_samples_leaf': 1, 'min_samples_split': 5, 'n_estimators': 150}\n"
     ]
    }
   ],
   "source": [
    "# tune parameter\n",
    "param_grid = {\"n_estimators\": [50, 100, 150, 200],\n",
    "    \"max_depth\": [3, 5, 7, 9, 11],\n",
    "    \"max_features\": [5, 7, 10, 13],\n",
    "    \"min_samples_split\": [2, 5, 10],\n",
    "    \"min_samples_leaf\": [1, 3, 10],\n",
    "    \"bootstrap\": [True, False]}\n",
    "\n",
    "model = RandomForestRegressor(random_state=0)\n",
    "grid = GridSearchCV(estimator=model, param_grid=param_grid, n_jobs=-1)\n",
    "grid.fit(X_vote_average_train, y_vote_average_train)\n",
    "\n",
    "print(grid.best_score_)\n",
    "print(grid.best_params_)"
   ]
  },
  {
   "cell_type": "code",
   "execution_count": 56,
   "metadata": {},
   "outputs": [
    {
     "name": "stdout",
     "output_type": "stream",
     "text": [
      "Best: -0.353647 using {'max_depth': 11, 'n_estimators': 150}\n"
     ]
    }
   ],
   "source": [
    "print(\"Best: %f using %s\" % (grid_result.best_score_, grid_result.best_params_))"
   ]
  },
  {
   "cell_type": "code",
   "execution_count": 75,
   "metadata": {},
   "outputs": [
    {
     "name": "stdout",
     "output_type": "stream",
     "text": [
      "-0.450895 (0.020147) with: {'max_depth': 3, 'n_estimators': 50}\n",
      "-0.451755 (0.018240) with: {'max_depth': 3, 'n_estimators': 100}\n",
      "-0.450813 (0.016215) with: {'max_depth': 3, 'n_estimators': 150}\n",
      "-0.450541 (0.016014) with: {'max_depth': 3, 'n_estimators': 200}\n",
      "-0.397613 (0.013514) with: {'max_depth': 5, 'n_estimators': 50}\n",
      "-0.395974 (0.013050) with: {'max_depth': 5, 'n_estimators': 100}\n",
      "-0.396252 (0.013113) with: {'max_depth': 5, 'n_estimators': 150}\n",
      "-0.394178 (0.012880) with: {'max_depth': 5, 'n_estimators': 200}\n",
      "-0.370120 (0.010238) with: {'max_depth': 7, 'n_estimators': 50}\n",
      "-0.368983 (0.009403) with: {'max_depth': 7, 'n_estimators': 100}\n",
      "-0.368525 (0.009903) with: {'max_depth': 7, 'n_estimators': 150}\n",
      "-0.368048 (0.008994) with: {'max_depth': 7, 'n_estimators': 200}\n",
      "-0.359852 (0.007794) with: {'max_depth': 9, 'n_estimators': 50}\n",
      "-0.358168 (0.009462) with: {'max_depth': 9, 'n_estimators': 100}\n",
      "-0.358621 (0.011341) with: {'max_depth': 9, 'n_estimators': 150}\n",
      "-0.357086 (0.010488) with: {'max_depth': 9, 'n_estimators': 200}\n",
      "-0.355068 (0.011413) with: {'max_depth': 11, 'n_estimators': 50}\n",
      "-0.355616 (0.009388) with: {'max_depth': 11, 'n_estimators': 100}\n",
      "-0.353647 (0.008295) with: {'max_depth': 11, 'n_estimators': 150}\n",
      "-0.354148 (0.007791) with: {'max_depth': 11, 'n_estimators': 200}\n"
     ]
    },
    {
     "data": {
      "text/plain": [
       "Text(0,0.5,'MSE')"
      ]
     },
     "execution_count": 75,
     "metadata": {},
     "output_type": "execute_result"
    },
    {
     "data": {
      "image/png": "[encoded data removed]",
      "text/plain": [
       "<Figure size 432x288 with 1 Axes>"
      ]
     },
     "metadata": {},
     "output_type": "display_data"
    }
   ],
   "source": [
    "means = grid_result.cv_results_['mean_test_score']\n",
    "stds = grid_result.cv_results_['std_test_score']\n",
    "params = grid_result.cv_results_['params']\n",
    "for mean, stdev, param in zip(means, stds, params):\n",
    "\tprint(\"%f (%f) with: %r\" % (mean, stdev, param))\n",
    "# plot results\n",
    "scores = np.array(means).reshape(len(max_depth), len(n_estimators))\n",
    "for i, value in enumerate(max_depth):\n",
    "    plt.plot(n_estimators, scores[i], label='depth: ' + str(value))\n",
    "plt.legend()\n",
    "plt.xlabel('n_estimators')\n",
    "plt.ylabel('MSE')"
   ]
  },
  {
   "cell_type": "code",
   "execution_count": 76,
   "metadata": {},
   "outputs": [],
   "source": [
    "#fit best model\n",
    "best_model = RandomForestRegressor(max_depth=11, n_estimators=150)"
   ]
  },
  {
   "cell_type": "code",
   "execution_count": 81,
   "metadata": {},
   "outputs": [
    {
     "data": {
      "text/plain": [
       "0.04744655239580917"
      ]
     },
     "execution_count": 81,
     "metadata": {},
     "output_type": "execute_result"
    }
   ],
   "source": [
    "# training error of best model(MAPE)\n",
    "best_model.fit(X_vote_average_train, y_vote_average_train)\n",
    "y_vote_average_pred_train = best_model.predict(X_vote_average_train)\n",
    "statistics.mean(abs((y_vote_average_pred_train-y_vote_average_train)/y_vote_average_train))"
   ]
  },
  {
   "cell_type": "code",
   "execution_count": 82,
   "metadata": {},
   "outputs": [
    {
     "data": {
      "text/plain": [
       "0.8163025764109217"
      ]
     },
     "execution_count": 82,
     "metadata": {},
     "output_type": "execute_result"
    }
   ],
   "source": [
    "# R squared\n",
    "best_model.score(X_vote_average_train, y_vote_average_train)"
   ]
  },
  {
   "cell_type": "code",
   "execution_count": 92,
   "metadata": {},
   "outputs": [
    {
     "data": {
      "image/png": "[encoded data removed]",
      "text/plain": [
       "<Figure size 432x288 with 1 Axes>"
      ]
     },
     "metadata": {},
     "output_type": "display_data"
    }
   ],
   "source": [
    "#plot the predicted values against the actual values\n",
    "plt.scatter(x=y_vote_average_pred, y=y_vote_average_test)\n",
    "plt.xlim([4,9])\n",
    "plt.ylim([4,9])\n",
    "plt.plot([4,9],[4,9])\n",
    "plt.xlabel('test_actual')\n",
    "plt.ylabel('test_predict')\n",
    "plt.show()"
   ]
  },
  {
   "cell_type": "code",
   "execution_count": 86,
   "metadata": {},
   "outputs": [
    {
     "data": {
      "text/plain": [
       "0.08179657630288645"
      ]
     },
     "execution_count": 86,
     "metadata": {},
     "output_type": "execute_result"
    }
   ],
   "source": [
    "# test error of best model(MAPE)\n",
    "best_model.fit(X_vote_average_train, y_vote_average_train)\n",
    "y_vote_average_pred = best_model.predict(X_vote_average_test)\n",
    "statistics.mean(abs((y_vote_average_pred-y_vote_average_test)/y_vote_average_test))"
   ]
  },
  {
   "cell_type": "code",
   "execution_count": 125,
   "metadata": {},
   "outputs": [
    {
     "data": {
      "text/html": [
       "<div>\n",
       "<style scoped>\n",
       "    .dataframe tbody tr th:only-of-type {\n",
       "        vertical-align: middle;\n",
       "    }\n",
       "\n",
       "    .dataframe tbody tr th {\n",
       "        vertical-align: top;\n",
       "    }\n",
       "\n",
       "    .dataframe thead th {\n",
       "        text-align: right;\n",
       "    }\n",
       "</style>\n",
       "<table border=\"1\" class=\"dataframe\">\n",
       "  <thead>\n",
       "    <tr style=\"text-align: right;\">\n",
       "      <th></th>\n",
       "      <th>vote_count</th>\n",
       "      <th>runtime</th>\n",
       "      <th>year</th>\n",
       "      <th>Drama</th>\n",
       "      <th>month</th>\n",
       "      <th>minority_studios</th>\n",
       "      <th>Action</th>\n",
       "      <th>majority_studios</th>\n",
       "      <th>Documentary</th>\n",
       "      <th>Science.Fiction</th>\n",
       "      <th>...</th>\n",
       "      <th>History</th>\n",
       "      <th>L32</th>\n",
       "      <th>L53</th>\n",
       "      <th>L27</th>\n",
       "      <th>L14</th>\n",
       "      <th>L6</th>\n",
       "      <th>L50</th>\n",
       "      <th>L10</th>\n",
       "      <th>L54</th>\n",
       "      <th>Foreign</th>\n",
       "    </tr>\n",
       "  </thead>\n",
       "  <tbody>\n",
       "    <tr>\n",
       "      <th>values</th>\n",
       "      <td>0.310857</td>\n",
       "      <td>0.181583</td>\n",
       "      <td>0.136823</td>\n",
       "      <td>0.117002</td>\n",
       "      <td>0.038201</td>\n",
       "      <td>0.029785</td>\n",
       "      <td>0.017578</td>\n",
       "      <td>0.013326</td>\n",
       "      <td>0.011716</td>\n",
       "      <td>0.011578</td>\n",
       "      <td>...</td>\n",
       "      <td>0.001819</td>\n",
       "      <td>0.001388</td>\n",
       "      <td>0.000871</td>\n",
       "      <td>0.000765</td>\n",
       "      <td>0.000674</td>\n",
       "      <td>0.000313</td>\n",
       "      <td>0.000308</td>\n",
       "      <td>0.000262</td>\n",
       "      <td>0.00025</td>\n",
       "      <td>0.0001</td>\n",
       "    </tr>\n",
       "  </tbody>\n",
       "</table>\n",
       "<p>1 rows × 41 columns</p>\n",
       "</div>"
      ],
      "text/plain": [
       "        vote_count   runtime      year     Drama     month  minority_studios  \\\n",
       "values    0.310857  0.181583  0.136823  0.117002  0.038201          0.029785   \n",
       "\n",
       "          Action  majority_studios  Documentary  Science.Fiction   ...     \\\n",
       "values  0.017578          0.013326     0.011716         0.011578   ...      \n",
       "\n",
       "         History       L32       L53       L27       L14        L6       L50  \\\n",
       "values  0.001819  0.001388  0.000871  0.000765  0.000674  0.000313  0.000308   \n",
       "\n",
       "             L10      L54  Foreign  \n",
       "values  0.000262  0.00025   0.0001  \n",
       "\n",
       "[1 rows x 41 columns]"
      ]
     },
     "execution_count": 125,
     "metadata": {},
     "output_type": "execute_result"
    }
   ],
   "source": [
    "# Interpreting the model\n",
    "feature_import = pd.DataFrame(data=best_model.feature_importances_, index=X_vote_average.columns.values, columns=['values'])\n",
    "feature_import.sort_values(['values'], ascending=False, inplace=True)\n",
    "feature_import.transpose()"
   ]
  },
  {
   "cell_type": "code",
   "execution_count": 126,
   "metadata": {},
   "outputs": [
    {
     "data": {
      "text/html": [
       "<div>\n",
       "<style scoped>\n",
       "    .dataframe tbody tr th:only-of-type {\n",
       "        vertical-align: middle;\n",
       "    }\n",
       "\n",
       "    .dataframe tbody tr th {\n",
       "        vertical-align: top;\n",
       "    }\n",
       "\n",
       "    .dataframe thead th {\n",
       "        text-align: right;\n",
       "    }\n",
       "</style>\n",
       "<table border=\"1\" class=\"dataframe\">\n",
       "  <thead>\n",
       "    <tr style=\"text-align: right;\">\n",
       "      <th></th>\n",
       "      <th>values</th>\n",
       "    </tr>\n",
       "  </thead>\n",
       "  <tbody>\n",
       "    <tr>\n",
       "      <th>vote_count</th>\n",
       "      <td>0.310857</td>\n",
       "    </tr>\n",
       "    <tr>\n",
       "      <th>runtime</th>\n",
       "      <td>0.181583</td>\n",
       "    </tr>\n",
       "    <tr>\n",
       "      <th>year</th>\n",
       "      <td>0.136823</td>\n",
       "    </tr>\n",
       "    <tr>\n",
       "      <th>Drama</th>\n",
       "      <td>0.117002</td>\n",
       "    </tr>\n",
       "    <tr>\n",
       "      <th>month</th>\n",
       "      <td>0.038201</td>\n",
       "    </tr>\n",
       "    <tr>\n",
       "      <th>minority_studios</th>\n",
       "      <td>0.029785</td>\n",
       "    </tr>\n",
       "    <tr>\n",
       "      <th>Action</th>\n",
       "      <td>0.017578</td>\n",
       "    </tr>\n",
       "    <tr>\n",
       "      <th>majority_studios</th>\n",
       "      <td>0.013326</td>\n",
       "    </tr>\n",
       "    <tr>\n",
       "      <th>Documentary</th>\n",
       "      <td>0.011716</td>\n",
       "    </tr>\n",
       "    <tr>\n",
       "      <th>Science.Fiction</th>\n",
       "      <td>0.011578</td>\n",
       "    </tr>\n",
       "    <tr>\n",
       "      <th>L15</th>\n",
       "      <td>0.010554</td>\n",
       "    </tr>\n",
       "    <tr>\n",
       "      <th>Comedy</th>\n",
       "      <td>0.010374</td>\n",
       "    </tr>\n",
       "    <tr>\n",
       "      <th>Adventure</th>\n",
       "      <td>0.010083</td>\n",
       "    </tr>\n",
       "    <tr>\n",
       "      <th>Horror</th>\n",
       "      <td>0.009969</td>\n",
       "    </tr>\n",
       "    <tr>\n",
       "      <th>Thriller</th>\n",
       "      <td>0.009952</td>\n",
       "    </tr>\n",
       "  </tbody>\n",
       "</table>\n",
       "</div>"
      ],
      "text/plain": [
       "                    values\n",
       "vote_count        0.310857\n",
       "runtime           0.181583\n",
       "year              0.136823\n",
       "Drama             0.117002\n",
       "month             0.038201\n",
       "minority_studios  0.029785\n",
       "Action            0.017578\n",
       "majority_studios  0.013326\n",
       "Documentary       0.011716\n",
       "Science.Fiction   0.011578\n",
       "L15               0.010554\n",
       "Comedy            0.010374\n",
       "Adventure         0.010083\n",
       "Horror            0.009969\n",
       "Thriller          0.009952"
      ]
     },
     "execution_count": 126,
     "metadata": {},
     "output_type": "execute_result"
    }
   ],
   "source": [
    "feature_import.iloc[0:15,:]"
   ]
  },
  {
   "cell_type": "code",
   "execution_count": 127,
   "metadata": {},
   "outputs": [
    {
     "data": {
      "image/png": "[encoded data removed]",
      "text/plain": [
       "<Figure size 1152x576 with 1 Axes>"
      ]
     },
     "metadata": {},
     "output_type": "display_data"
    }
   ],
   "source": [
    "plt.figure(figsize=(16,8))\n",
    "feature_import=feature_import.iloc[0:15,:]\n",
    "feature_import.reset_index(level=0, inplace=True)\n",
    "sns.barplot(x='index', y='values', data=feature_import, palette='deep')\n",
    "plt.show()"
   ]
  },
  {
   "cell_type": "code",
   "execution_count": null,
   "metadata": {},
   "outputs": [],
   "source": []
  }
 ],
 "metadata": {
  "kernelspec": {
   "display_name": "Python 3",
   "language": "python",
   "name": "python3"
  },
  "language_info": {
   "codemirror_mode": {
    "name": "ipython",
    "version": 3
   },
   "file_extension": ".py",
   "mimetype": "text/x-python",
   "name": "python",
   "nbconvert_exporter": "python",
   "pygments_lexer": "ipython3",
   "version": "3.6.5"
  }
 },
 "nbformat": 4,
 "nbformat_minor": 2
}
