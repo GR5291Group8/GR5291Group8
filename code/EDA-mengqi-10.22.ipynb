{
 "cells": [
  {
   "cell_type": "markdown",
   "metadata": {},
   "source": [
    " # EDA : Data Analysis, visualization "
   ]
  },
  {
   "cell_type": "code",
   "execution_count": 9,
   "metadata": {},
   "outputs": [],
   "source": [
    "import pandas as pd\n",
    "import numpy as np\n",
    "%matplotlib inline"
   ]
  },
  {
   "cell_type": "code",
   "execution_count": 56,
   "metadata": {
    "scrolled": true
   },
   "outputs": [
    {
     "data": {
      "text/html": [
       "<div>\n",
       "<style>\n",
       "    .dataframe thead tr:only-child th {\n",
       "        text-align: right;\n",
       "    }\n",
       "\n",
       "    .dataframe thead th {\n",
       "        text-align: left;\n",
       "    }\n",
       "\n",
       "    .dataframe tbody tr th {\n",
       "        vertical-align: top;\n",
       "    }\n",
       "</style>\n",
       "<table border=\"1\" class=\"dataframe\">\n",
       "  <thead>\n",
       "    <tr style=\"text-align: right;\">\n",
       "      <th></th>\n",
       "      <th>Unnamed: 0</th>\n",
       "      <th>budget</th>\n",
       "      <th>genres</th>\n",
       "      <th>keywords</th>\n",
       "      <th>overview</th>\n",
       "      <th>popularity</th>\n",
       "      <th>production_companies</th>\n",
       "      <th>production_countries</th>\n",
       "      <th>release_date</th>\n",
       "      <th>revenue</th>\n",
       "      <th>runtime</th>\n",
       "      <th>spoken_languages</th>\n",
       "      <th>tagline</th>\n",
       "      <th>vote_average</th>\n",
       "      <th>vote_count</th>\n",
       "      <th>cast</th>\n",
       "      <th>director</th>\n",
       "      <th>year</th>\n",
       "      <th>month</th>\n",
       "      <th>return_rate</th>\n",
       "    </tr>\n",
       "  </thead>\n",
       "  <tbody>\n",
       "    <tr>\n",
       "      <th>0</th>\n",
       "      <td>39</td>\n",
       "      <td>170000000</td>\n",
       "      <td>['Adventure', 'Action', 'Science Fiction']</td>\n",
       "      <td>['artificial intelligence', 'secret identity',...</td>\n",
       "      <td>Sam Flynn, the tech-savvy and daring son of Ke...</td>\n",
       "      <td>73.795050</td>\n",
       "      <td>['Walt Disney Pictures', 'LivePlanet', 'Prana ...</td>\n",
       "      <td>['United States of America']</td>\n",
       "      <td>2010-12-10</td>\n",
       "      <td>400062763</td>\n",
       "      <td>125.0</td>\n",
       "      <td>['English']</td>\n",
       "      <td>The Game Has Changed.</td>\n",
       "      <td>6.3</td>\n",
       "      <td>2841</td>\n",
       "      <td>[\"['Garrett Hedlund'\", \" 'Jeff Bridges'\"]</td>\n",
       "      <td>Joseph Kosinski</td>\n",
       "      <td>2010</td>\n",
       "      <td>12</td>\n",
       "      <td>135.331037</td>\n",
       "    </tr>\n",
       "    <tr>\n",
       "      <th>1</th>\n",
       "      <td>49</td>\n",
       "      <td>105000000</td>\n",
       "      <td>['Drama', 'Romance']</td>\n",
       "      <td>['based on novel', 'infidelity', 'obsession', ...</td>\n",
       "      <td>An adaptation of F. Scott Fitzgerald's Long Is...</td>\n",
       "      <td>61.196071</td>\n",
       "      <td>['Village Roadshow Pictures', 'Bazmark Films',...</td>\n",
       "      <td>['United States of America', 'Australia']</td>\n",
       "      <td>2013-05-10</td>\n",
       "      <td>351040419</td>\n",
       "      <td>143.0</td>\n",
       "      <td>['English']</td>\n",
       "      <td>Reserving judgments is a matter of infinite ho...</td>\n",
       "      <td>7.3</td>\n",
       "      <td>3769</td>\n",
       "      <td>[\"['Leonardo DiCaprio'\", \" 'Tobey Maguire'\"]</td>\n",
       "      <td>Baz Luhrmann</td>\n",
       "      <td>2013</td>\n",
       "      <td>5</td>\n",
       "      <td>234.324209</td>\n",
       "    </tr>\n",
       "    <tr>\n",
       "      <th>2</th>\n",
       "      <td>50</td>\n",
       "      <td>150000000</td>\n",
       "      <td>['Adventure', 'Fantasy', 'Action', 'Romance']</td>\n",
       "      <td>['persia', 'sandstorm', 'brother against broth...</td>\n",
       "      <td>A rogue prince reluctantly joins forces with a...</td>\n",
       "      <td>62.169881</td>\n",
       "      <td>['Walt Disney Pictures', 'Jerry Bruckheimer Fi...</td>\n",
       "      <td>['United States of America']</td>\n",
       "      <td>2010-05-19</td>\n",
       "      <td>335154643</td>\n",
       "      <td>116.0</td>\n",
       "      <td>['English']</td>\n",
       "      <td>Defy the Future</td>\n",
       "      <td>6.2</td>\n",
       "      <td>2317</td>\n",
       "      <td>[\"['Jake Gyllenhaal'\", \" 'Gemma Arterton'\"]</td>\n",
       "      <td>Mike Newell</td>\n",
       "      <td>2010</td>\n",
       "      <td>5</td>\n",
       "      <td>123.436429</td>\n",
       "    </tr>\n",
       "  </tbody>\n",
       "</table>\n",
       "</div>"
      ],
      "text/plain": [
       "   Unnamed: 0     budget                                         genres  \\\n",
       "0          39  170000000     ['Adventure', 'Action', 'Science Fiction']   \n",
       "1          49  105000000                           ['Drama', 'Romance']   \n",
       "2          50  150000000  ['Adventure', 'Fantasy', 'Action', 'Romance']   \n",
       "\n",
       "                                            keywords  \\\n",
       "0  ['artificial intelligence', 'secret identity',...   \n",
       "1  ['based on novel', 'infidelity', 'obsession', ...   \n",
       "2  ['persia', 'sandstorm', 'brother against broth...   \n",
       "\n",
       "                                            overview  popularity  \\\n",
       "0  Sam Flynn, the tech-savvy and daring son of Ke...   73.795050   \n",
       "1  An adaptation of F. Scott Fitzgerald's Long Is...   61.196071   \n",
       "2  A rogue prince reluctantly joins forces with a...   62.169881   \n",
       "\n",
       "                                production_companies  \\\n",
       "0  ['Walt Disney Pictures', 'LivePlanet', 'Prana ...   \n",
       "1  ['Village Roadshow Pictures', 'Bazmark Films',...   \n",
       "2  ['Walt Disney Pictures', 'Jerry Bruckheimer Fi...   \n",
       "\n",
       "                        production_countries release_date    revenue  runtime  \\\n",
       "0               ['United States of America']   2010-12-10  400062763    125.0   \n",
       "1  ['United States of America', 'Australia']   2013-05-10  351040419    143.0   \n",
       "2               ['United States of America']   2010-05-19  335154643    116.0   \n",
       "\n",
       "  spoken_languages                                            tagline  \\\n",
       "0      ['English']                              The Game Has Changed.   \n",
       "1      ['English']  Reserving judgments is a matter of infinite ho...   \n",
       "2      ['English']                                    Defy the Future   \n",
       "\n",
       "   vote_average  vote_count                                          cast  \\\n",
       "0           6.3        2841     [\"['Garrett Hedlund'\", \" 'Jeff Bridges'\"]   \n",
       "1           7.3        3769  [\"['Leonardo DiCaprio'\", \" 'Tobey Maguire'\"]   \n",
       "2           6.2        2317   [\"['Jake Gyllenhaal'\", \" 'Gemma Arterton'\"]   \n",
       "\n",
       "          director  year  month  return_rate  \n",
       "0  Joseph Kosinski  2010     12   135.331037  \n",
       "1     Baz Luhrmann  2013      5   234.324209  \n",
       "2      Mike Newell  2010      5   123.436429  "
      ]
     },
     "execution_count": 56,
     "metadata": {},
     "output_type": "execute_result"
    }
   ],
   "source": [
    "pd.set_option('display.max_rows', 15)\n",
    "df = pd.read_csv('/Users/mengqichen/Documents/Github/GR5291Group8/Data/cleaned_movie_data.csv')\n",
    "df.head(3)"
   ]
  },
  {
   "cell_type": "code",
   "execution_count": 45,
   "metadata": {},
   "outputs": [
    {
     "data": {
      "text/plain": [
       "(2964, 20)"
      ]
     },
     "execution_count": 45,
     "metadata": {},
     "output_type": "execute_result"
    }
   ],
   "source": [
    "df.shape"
   ]
  },
  {
   "cell_type": "code",
   "execution_count": 46,
   "metadata": {},
   "outputs": [
    {
     "data": {
      "text/plain": [
       "Index(['Unnamed: 0', 'budget', 'genres', 'keywords', 'overview', 'popularity',\n",
       "       'production_companies', 'production_countries', 'release_date',\n",
       "       'revenue', 'runtime', 'spoken_languages', 'tagline', 'vote_average',\n",
       "       'vote_count', 'cast', 'director', 'year', 'month', 'return_rate'],\n",
       "      dtype='object')"
      ]
     },
     "execution_count": 46,
     "metadata": {},
     "output_type": "execute_result"
    }
   ],
   "source": [
    "df.columns"
   ]
  },
  {
   "cell_type": "code",
   "execution_count": 115,
   "metadata": {},
   "outputs": [
    {
     "data": {
      "text/html": [
       "<div>\n",
       "<style>\n",
       "    .dataframe thead tr:only-child th {\n",
       "        text-align: right;\n",
       "    }\n",
       "\n",
       "    .dataframe thead th {\n",
       "        text-align: left;\n",
       "    }\n",
       "\n",
       "    .dataframe tbody tr th {\n",
       "        vertical-align: top;\n",
       "    }\n",
       "</style>\n",
       "<table border=\"1\" class=\"dataframe\">\n",
       "  <thead>\n",
       "    <tr style=\"text-align: right;\">\n",
       "      <th></th>\n",
       "      <th>Unnamed: 0</th>\n",
       "      <th>budget</th>\n",
       "      <th>popularity</th>\n",
       "      <th>revenue</th>\n",
       "      <th>runtime</th>\n",
       "      <th>vote_average</th>\n",
       "      <th>vote_count</th>\n",
       "      <th>year</th>\n",
       "      <th>month</th>\n",
       "      <th>return_rate</th>\n",
       "    </tr>\n",
       "  </thead>\n",
       "  <tbody>\n",
       "    <tr>\n",
       "      <th>count</th>\n",
       "      <td>2964.000000</td>\n",
       "      <td>2.964000e+03</td>\n",
       "      <td>2964.000000</td>\n",
       "      <td>2.964000e+03</td>\n",
       "      <td>2964.000000</td>\n",
       "      <td>2964.000000</td>\n",
       "      <td>2964.000000</td>\n",
       "      <td>2964.000000</td>\n",
       "      <td>2964.000000</td>\n",
       "      <td>2964.000000</td>\n",
       "    </tr>\n",
       "    <tr>\n",
       "      <th>mean</th>\n",
       "      <td>1935.483806</td>\n",
       "      <td>3.705086e+07</td>\n",
       "      <td>26.995114</td>\n",
       "      <td>1.006462e+08</td>\n",
       "      <td>110.602564</td>\n",
       "      <td>6.299258</td>\n",
       "      <td>865.080972</td>\n",
       "      <td>2001.610661</td>\n",
       "      <td>6.996289</td>\n",
       "      <td>324.022693</td>\n",
       "    </tr>\n",
       "    <tr>\n",
       "      <th>std</th>\n",
       "      <td>1195.455611</td>\n",
       "      <td>3.459135e+07</td>\n",
       "      <td>27.541874</td>\n",
       "      <td>1.203847e+08</td>\n",
       "      <td>20.387470</td>\n",
       "      <td>0.850974</td>\n",
       "      <td>1150.616381</td>\n",
       "      <td>12.856627</td>\n",
       "      <td>3.386706</td>\n",
       "      <td>993.467883</td>\n",
       "    </tr>\n",
       "    <tr>\n",
       "      <th>min</th>\n",
       "      <td>39.000000</td>\n",
       "      <td>5.600000e+05</td>\n",
       "      <td>0.019984</td>\n",
       "      <td>3.547040e+05</td>\n",
       "      <td>41.000000</td>\n",
       "      <td>3.000000</td>\n",
       "      <td>1.000000</td>\n",
       "      <td>1927.000000</td>\n",
       "      <td>1.000000</td>\n",
       "      <td>-99.297752</td>\n",
       "    </tr>\n",
       "    <tr>\n",
       "      <th>25%</th>\n",
       "      <td>911.750000</td>\n",
       "      <td>1.200000e+07</td>\n",
       "      <td>10.813420</td>\n",
       "      <td>1.880002e+07</td>\n",
       "      <td>97.000000</td>\n",
       "      <td>5.800000</td>\n",
       "      <td>188.000000</td>\n",
       "      <td>1998.000000</td>\n",
       "      <td>4.000000</td>\n",
       "      <td>4.394637</td>\n",
       "    </tr>\n",
       "    <tr>\n",
       "      <th>50%</th>\n",
       "      <td>1804.500000</td>\n",
       "      <td>2.551500e+07</td>\n",
       "      <td>20.314577</td>\n",
       "      <td>5.597816e+07</td>\n",
       "      <td>107.000000</td>\n",
       "      <td>6.300000</td>\n",
       "      <td>459.000000</td>\n",
       "      <td>2005.000000</td>\n",
       "      <td>7.000000</td>\n",
       "      <td>125.824490</td>\n",
       "    </tr>\n",
       "    <tr>\n",
       "      <th>75%</th>\n",
       "      <td>2849.500000</td>\n",
       "      <td>5.000000e+07</td>\n",
       "      <td>35.828886</td>\n",
       "      <td>1.353876e+08</td>\n",
       "      <td>120.000000</td>\n",
       "      <td>6.900000</td>\n",
       "      <td>1060.000000</td>\n",
       "      <td>2010.000000</td>\n",
       "      <td>10.000000</td>\n",
       "      <td>322.916571</td>\n",
       "    </tr>\n",
       "    <tr>\n",
       "      <th>max</th>\n",
       "      <td>4758.000000</td>\n",
       "      <td>1.700000e+08</td>\n",
       "      <td>724.247784</td>\n",
       "      <td>6.912107e+08</td>\n",
       "      <td>338.000000</td>\n",
       "      <td>8.500000</td>\n",
       "      <td>10867.000000</td>\n",
       "      <td>2016.000000</td>\n",
       "      <td>12.000000</td>\n",
       "      <td>31070.996503</td>\n",
       "    </tr>\n",
       "  </tbody>\n",
       "</table>\n",
       "</div>"
      ],
      "text/plain": [
       "        Unnamed: 0        budget   popularity       revenue      runtime  \\\n",
       "count  2964.000000  2.964000e+03  2964.000000  2.964000e+03  2964.000000   \n",
       "mean   1935.483806  3.705086e+07    26.995114  1.006462e+08   110.602564   \n",
       "std    1195.455611  3.459135e+07    27.541874  1.203847e+08    20.387470   \n",
       "min      39.000000  5.600000e+05     0.019984  3.547040e+05    41.000000   \n",
       "25%     911.750000  1.200000e+07    10.813420  1.880002e+07    97.000000   \n",
       "50%    1804.500000  2.551500e+07    20.314577  5.597816e+07   107.000000   \n",
       "75%    2849.500000  5.000000e+07    35.828886  1.353876e+08   120.000000   \n",
       "max    4758.000000  1.700000e+08   724.247784  6.912107e+08   338.000000   \n",
       "\n",
       "       vote_average    vote_count         year        month   return_rate  \n",
       "count   2964.000000   2964.000000  2964.000000  2964.000000   2964.000000  \n",
       "mean       6.299258    865.080972  2001.610661     6.996289    324.022693  \n",
       "std        0.850974   1150.616381    12.856627     3.386706    993.467883  \n",
       "min        3.000000      1.000000  1927.000000     1.000000    -99.297752  \n",
       "25%        5.800000    188.000000  1998.000000     4.000000      4.394637  \n",
       "50%        6.300000    459.000000  2005.000000     7.000000    125.824490  \n",
       "75%        6.900000   1060.000000  2010.000000    10.000000    322.916571  \n",
       "max        8.500000  10867.000000  2016.000000    12.000000  31070.996503  "
      ]
     },
     "execution_count": 115,
     "metadata": {},
     "output_type": "execute_result"
    }
   ],
   "source": [
    "df.describe()"
   ]
  },
  {
   "cell_type": "markdown",
   "metadata": {},
   "source": [
    "## 1. Time span the dataset included"
   ]
  },
  {
   "cell_type": "code",
   "execution_count": 47,
   "metadata": {},
   "outputs": [
    {
     "data": {
      "text/plain": [
       "<matplotlib.axes._subplots.AxesSubplot at 0x115a536a0>"
      ]
     },
     "execution_count": 47,
     "metadata": {},
     "output_type": "execute_result"
    },
    {
     "data": {
      "image/png": "[encoded data removed]",
      "text/plain": [
       "<matplotlib.figure.Figure at 0x115a53898>"
      ]
     },
     "metadata": {},
     "output_type": "display_data"
    }
   ],
   "source": [
    "df1 = df[df.year.notnull()]\n",
    "df1['year'].groupby(df1['year']).size().plot()"
   ]
  },
  {
   "cell_type": "code",
   "execution_count": 30,
   "metadata": {},
   "outputs": [
    {
     "name": "stdout",
     "output_type": "stream",
     "text": [
      "The year is from 1927 to 2016\n"
     ]
    }
   ],
   "source": [
    "print('The year is from %s to %s' % (min(df1['year']), max(df1['year'])))"
   ]
  },
  {
   "cell_type": "code",
   "execution_count": 48,
   "metadata": {
    "collapsed": true
   },
   "outputs": [],
   "source": [
    "movie = pd.read_csv('/Users/mengqichen/Documents/Github/GR5291Group8/Data/tmdb_5000_movies.csv')"
   ]
  },
  {
   "cell_type": "code",
   "execution_count": 49,
   "metadata": {},
   "outputs": [
    {
     "data": {
      "text/html": [
       "<div>\n",
       "<style>\n",
       "    .dataframe thead tr:only-child th {\n",
       "        text-align: right;\n",
       "    }\n",
       "\n",
       "    .dataframe thead th {\n",
       "        text-align: left;\n",
       "    }\n",
       "\n",
       "    .dataframe tbody tr th {\n",
       "        vertical-align: top;\n",
       "    }\n",
       "</style>\n",
       "<table border=\"1\" class=\"dataframe\">\n",
       "  <thead>\n",
       "    <tr style=\"text-align: right;\">\n",
       "      <th></th>\n",
       "      <th>budget</th>\n",
       "      <th>genres</th>\n",
       "      <th>homepage</th>\n",
       "      <th>id</th>\n",
       "      <th>keywords</th>\n",
       "      <th>original_language</th>\n",
       "      <th>original_title</th>\n",
       "      <th>overview</th>\n",
       "      <th>popularity</th>\n",
       "      <th>production_companies</th>\n",
       "      <th>production_countries</th>\n",
       "      <th>release_date</th>\n",
       "      <th>revenue</th>\n",
       "      <th>runtime</th>\n",
       "      <th>spoken_languages</th>\n",
       "      <th>status</th>\n",
       "      <th>tagline</th>\n",
       "      <th>title</th>\n",
       "      <th>vote_average</th>\n",
       "      <th>vote_count</th>\n",
       "    </tr>\n",
       "  </thead>\n",
       "  <tbody>\n",
       "    <tr>\n",
       "      <th>0</th>\n",
       "      <td>237000000</td>\n",
       "      <td>[{\"id\": 28, \"name\": \"Action\"}, {\"id\": 12, \"nam...</td>\n",
       "      <td>http://www.avatarmovie.com/</td>\n",
       "      <td>19995</td>\n",
       "      <td>[{\"id\": 1463, \"name\": \"culture clash\"}, {\"id\":...</td>\n",
       "      <td>en</td>\n",
       "      <td>Avatar</td>\n",
       "      <td>In the 22nd century, a paraplegic Marine is di...</td>\n",
       "      <td>150.437577</td>\n",
       "      <td>[{\"name\": \"Ingenious Film Partners\", \"id\": 289...</td>\n",
       "      <td>[{\"iso_3166_1\": \"US\", \"name\": \"United States o...</td>\n",
       "      <td>2009-12-10</td>\n",
       "      <td>2787965087</td>\n",
       "      <td>162.0</td>\n",
       "      <td>[{\"iso_639_1\": \"en\", \"name\": \"English\"}, {\"iso...</td>\n",
       "      <td>Released</td>\n",
       "      <td>Enter the World of Pandora.</td>\n",
       "      <td>Avatar</td>\n",
       "      <td>7.2</td>\n",
       "      <td>11800</td>\n",
       "    </tr>\n",
       "    <tr>\n",
       "      <th>1</th>\n",
       "      <td>300000000</td>\n",
       "      <td>[{\"id\": 12, \"name\": \"Adventure\"}, {\"id\": 14, \"...</td>\n",
       "      <td>http://disney.go.com/disneypictures/pirates/</td>\n",
       "      <td>285</td>\n",
       "      <td>[{\"id\": 270, \"name\": \"ocean\"}, {\"id\": 726, \"na...</td>\n",
       "      <td>en</td>\n",
       "      <td>Pirates of the Caribbean: At World's End</td>\n",
       "      <td>Captain Barbossa, long believed to be dead, ha...</td>\n",
       "      <td>139.082615</td>\n",
       "      <td>[{\"name\": \"Walt Disney Pictures\", \"id\": 2}, {\"...</td>\n",
       "      <td>[{\"iso_3166_1\": \"US\", \"name\": \"United States o...</td>\n",
       "      <td>2007-05-19</td>\n",
       "      <td>961000000</td>\n",
       "      <td>169.0</td>\n",
       "      <td>[{\"iso_639_1\": \"en\", \"name\": \"English\"}]</td>\n",
       "      <td>Released</td>\n",
       "      <td>At the end of the world, the adventure begins.</td>\n",
       "      <td>Pirates of the Caribbean: At World's End</td>\n",
       "      <td>6.9</td>\n",
       "      <td>4500</td>\n",
       "    </tr>\n",
       "    <tr>\n",
       "      <th>2</th>\n",
       "      <td>245000000</td>\n",
       "      <td>[{\"id\": 28, \"name\": \"Action\"}, {\"id\": 12, \"nam...</td>\n",
       "      <td>http://www.sonypictures.com/movies/spectre/</td>\n",
       "      <td>206647</td>\n",
       "      <td>[{\"id\": 470, \"name\": \"spy\"}, {\"id\": 818, \"name...</td>\n",
       "      <td>en</td>\n",
       "      <td>Spectre</td>\n",
       "      <td>A cryptic message from Bond’s past sends him o...</td>\n",
       "      <td>107.376788</td>\n",
       "      <td>[{\"name\": \"Columbia Pictures\", \"id\": 5}, {\"nam...</td>\n",
       "      <td>[{\"iso_3166_1\": \"GB\", \"name\": \"United Kingdom\"...</td>\n",
       "      <td>2015-10-26</td>\n",
       "      <td>880674609</td>\n",
       "      <td>148.0</td>\n",
       "      <td>[{\"iso_639_1\": \"fr\", \"name\": \"Fran\\u00e7ais\"},...</td>\n",
       "      <td>Released</td>\n",
       "      <td>A Plan No One Escapes</td>\n",
       "      <td>Spectre</td>\n",
       "      <td>6.3</td>\n",
       "      <td>4466</td>\n",
       "    </tr>\n",
       "  </tbody>\n",
       "</table>\n",
       "</div>"
      ],
      "text/plain": [
       "      budget                                             genres  \\\n",
       "0  237000000  [{\"id\": 28, \"name\": \"Action\"}, {\"id\": 12, \"nam...   \n",
       "1  300000000  [{\"id\": 12, \"name\": \"Adventure\"}, {\"id\": 14, \"...   \n",
       "2  245000000  [{\"id\": 28, \"name\": \"Action\"}, {\"id\": 12, \"nam...   \n",
       "\n",
       "                                       homepage      id  \\\n",
       "0                   http://www.avatarmovie.com/   19995   \n",
       "1  http://disney.go.com/disneypictures/pirates/     285   \n",
       "2   http://www.sonypictures.com/movies/spectre/  206647   \n",
       "\n",
       "                                            keywords original_language  \\\n",
       "0  [{\"id\": 1463, \"name\": \"culture clash\"}, {\"id\":...                en   \n",
       "1  [{\"id\": 270, \"name\": \"ocean\"}, {\"id\": 726, \"na...                en   \n",
       "2  [{\"id\": 470, \"name\": \"spy\"}, {\"id\": 818, \"name...                en   \n",
       "\n",
       "                             original_title  \\\n",
       "0                                    Avatar   \n",
       "1  Pirates of the Caribbean: At World's End   \n",
       "2                                   Spectre   \n",
       "\n",
       "                                            overview  popularity  \\\n",
       "0  In the 22nd century, a paraplegic Marine is di...  150.437577   \n",
       "1  Captain Barbossa, long believed to be dead, ha...  139.082615   \n",
       "2  A cryptic message from Bond’s past sends him o...  107.376788   \n",
       "\n",
       "                                production_companies  \\\n",
       "0  [{\"name\": \"Ingenious Film Partners\", \"id\": 289...   \n",
       "1  [{\"name\": \"Walt Disney Pictures\", \"id\": 2}, {\"...   \n",
       "2  [{\"name\": \"Columbia Pictures\", \"id\": 5}, {\"nam...   \n",
       "\n",
       "                                production_countries release_date     revenue  \\\n",
       "0  [{\"iso_3166_1\": \"US\", \"name\": \"United States o...   2009-12-10  2787965087   \n",
       "1  [{\"iso_3166_1\": \"US\", \"name\": \"United States o...   2007-05-19   961000000   \n",
       "2  [{\"iso_3166_1\": \"GB\", \"name\": \"United Kingdom\"...   2015-10-26   880674609   \n",
       "\n",
       "   runtime                                   spoken_languages    status  \\\n",
       "0    162.0  [{\"iso_639_1\": \"en\", \"name\": \"English\"}, {\"iso...  Released   \n",
       "1    169.0           [{\"iso_639_1\": \"en\", \"name\": \"English\"}]  Released   \n",
       "2    148.0  [{\"iso_639_1\": \"fr\", \"name\": \"Fran\\u00e7ais\"},...  Released   \n",
       "\n",
       "                                          tagline  \\\n",
       "0                     Enter the World of Pandora.   \n",
       "1  At the end of the world, the adventure begins.   \n",
       "2                           A Plan No One Escapes   \n",
       "\n",
       "                                      title  vote_average  vote_count  \n",
       "0                                    Avatar           7.2       11800  \n",
       "1  Pirates of the Caribbean: At World's End           6.9        4500  \n",
       "2                                   Spectre           6.3        4466  "
      ]
     },
     "execution_count": 49,
     "metadata": {},
     "output_type": "execute_result"
    }
   ],
   "source": [
    "movie.head(3)"
   ]
  },
  {
   "cell_type": "markdown",
   "metadata": {},
   "source": [
    "## 2. Genres"
   ]
  },
  {
   "cell_type": "code",
   "execution_count": 90,
   "metadata": {},
   "outputs": [
    {
     "data": {
      "text/html": [
       "<div>\n",
       "<style>\n",
       "    .dataframe thead tr:only-child th {\n",
       "        text-align: right;\n",
       "    }\n",
       "\n",
       "    .dataframe thead th {\n",
       "        text-align: left;\n",
       "    }\n",
       "\n",
       "    .dataframe tbody tr th {\n",
       "        vertical-align: top;\n",
       "    }\n",
       "</style>\n",
       "<table border=\"1\" class=\"dataframe\">\n",
       "  <thead>\n",
       "    <tr style=\"text-align: right;\">\n",
       "      <th></th>\n",
       "      <th>Action</th>\n",
       "      <th>Adventure</th>\n",
       "      <th>Animation</th>\n",
       "      <th>Biography</th>\n",
       "      <th>Comedy</th>\n",
       "      <th>Crime</th>\n",
       "      <th>Documentary</th>\n",
       "      <th>Drama</th>\n",
       "      <th>Family</th>\n",
       "      <th>Fantasy</th>\n",
       "      <th>Film-Noir</th>\n",
       "      <th>History</th>\n",
       "      <th>Horror</th>\n",
       "      <th>Music</th>\n",
       "      <th>Musical</th>\n",
       "      <th>Mystery</th>\n",
       "      <th>Romance</th>\n",
       "      <th>Sci-Fi</th>\n",
       "      <th>Sport</th>\n",
       "      <th>Thriller</th>\n",
       "      <th>War</th>\n",
       "      <th>Western</th>\n",
       "    </tr>\n",
       "  </thead>\n",
       "  <tbody>\n",
       "    <tr>\n",
       "      <th>0</th>\n",
       "      <td>True</td>\n",
       "      <td>True</td>\n",
       "      <td>False</td>\n",
       "      <td>False</td>\n",
       "      <td>False</td>\n",
       "      <td>False</td>\n",
       "      <td>False</td>\n",
       "      <td>False</td>\n",
       "      <td>False</td>\n",
       "      <td>False</td>\n",
       "      <td>False</td>\n",
       "      <td>False</td>\n",
       "      <td>False</td>\n",
       "      <td>False</td>\n",
       "      <td>False</td>\n",
       "      <td>False</td>\n",
       "      <td>False</td>\n",
       "      <td>False</td>\n",
       "      <td>False</td>\n",
       "      <td>False</td>\n",
       "      <td>False</td>\n",
       "      <td>False</td>\n",
       "    </tr>\n",
       "    <tr>\n",
       "      <th>1</th>\n",
       "      <td>False</td>\n",
       "      <td>False</td>\n",
       "      <td>False</td>\n",
       "      <td>False</td>\n",
       "      <td>False</td>\n",
       "      <td>False</td>\n",
       "      <td>False</td>\n",
       "      <td>True</td>\n",
       "      <td>False</td>\n",
       "      <td>False</td>\n",
       "      <td>False</td>\n",
       "      <td>False</td>\n",
       "      <td>False</td>\n",
       "      <td>False</td>\n",
       "      <td>False</td>\n",
       "      <td>False</td>\n",
       "      <td>True</td>\n",
       "      <td>False</td>\n",
       "      <td>False</td>\n",
       "      <td>False</td>\n",
       "      <td>False</td>\n",
       "      <td>False</td>\n",
       "    </tr>\n",
       "    <tr>\n",
       "      <th>2</th>\n",
       "      <td>True</td>\n",
       "      <td>True</td>\n",
       "      <td>False</td>\n",
       "      <td>False</td>\n",
       "      <td>False</td>\n",
       "      <td>False</td>\n",
       "      <td>False</td>\n",
       "      <td>False</td>\n",
       "      <td>False</td>\n",
       "      <td>True</td>\n",
       "      <td>False</td>\n",
       "      <td>False</td>\n",
       "      <td>False</td>\n",
       "      <td>False</td>\n",
       "      <td>False</td>\n",
       "      <td>False</td>\n",
       "      <td>True</td>\n",
       "      <td>False</td>\n",
       "      <td>False</td>\n",
       "      <td>False</td>\n",
       "      <td>False</td>\n",
       "      <td>False</td>\n",
       "    </tr>\n",
       "    <tr>\n",
       "      <th>3</th>\n",
       "      <td>True</td>\n",
       "      <td>False</td>\n",
       "      <td>False</td>\n",
       "      <td>False</td>\n",
       "      <td>True</td>\n",
       "      <td>True</td>\n",
       "      <td>False</td>\n",
       "      <td>False</td>\n",
       "      <td>False</td>\n",
       "      <td>False</td>\n",
       "      <td>False</td>\n",
       "      <td>False</td>\n",
       "      <td>False</td>\n",
       "      <td>False</td>\n",
       "      <td>False</td>\n",
       "      <td>False</td>\n",
       "      <td>False</td>\n",
       "      <td>False</td>\n",
       "      <td>False</td>\n",
       "      <td>True</td>\n",
       "      <td>False</td>\n",
       "      <td>False</td>\n",
       "    </tr>\n",
       "    <tr>\n",
       "      <th>4</th>\n",
       "      <td>True</td>\n",
       "      <td>True</td>\n",
       "      <td>False</td>\n",
       "      <td>False</td>\n",
       "      <td>False</td>\n",
       "      <td>False</td>\n",
       "      <td>False</td>\n",
       "      <td>False</td>\n",
       "      <td>False</td>\n",
       "      <td>False</td>\n",
       "      <td>False</td>\n",
       "      <td>False</td>\n",
       "      <td>False</td>\n",
       "      <td>False</td>\n",
       "      <td>False</td>\n",
       "      <td>False</td>\n",
       "      <td>False</td>\n",
       "      <td>False</td>\n",
       "      <td>False</td>\n",
       "      <td>False</td>\n",
       "      <td>False</td>\n",
       "      <td>False</td>\n",
       "    </tr>\n",
       "  </tbody>\n",
       "</table>\n",
       "</div>"
      ],
      "text/plain": [
       "  Action Adventure Animation Biography Comedy  Crime Documentary  Drama  \\\n",
       "0   True      True     False     False  False  False       False  False   \n",
       "1  False     False     False     False  False  False       False   True   \n",
       "2   True      True     False     False  False  False       False  False   \n",
       "3   True     False     False     False   True   True       False  False   \n",
       "4   True      True     False     False  False  False       False  False   \n",
       "\n",
       "  Family Fantasy Film-Noir History Horror  Music Musical Mystery Romance  \\\n",
       "0  False   False     False   False  False  False   False   False   False   \n",
       "1  False   False     False   False  False  False   False   False    True   \n",
       "2  False    True     False   False  False  False   False   False    True   \n",
       "3  False   False     False   False  False  False   False   False   False   \n",
       "4  False   False     False   False  False  False   False   False   False   \n",
       "\n",
       "  Sci-Fi  Sport Thriller    War Western  \n",
       "0  False  False    False  False   False  \n",
       "1  False  False    False  False   False  \n",
       "2  False  False    False  False   False  \n",
       "3  False  False     True  False   False  \n",
       "4  False  False    False  False   False  "
      ]
     },
     "execution_count": 90,
     "metadata": {},
     "output_type": "execute_result"
    }
   ],
   "source": [
    "data = df\n",
    "data_Genres = pd.DataFrame()\n",
    "data_Genres[\"Action\"] = data[\"genres\"].apply(lambda x : \"True\" if \"Action\" in x else \"False\")\n",
    "data_Genres[\"Adventure\"] = data[\"genres\"].apply(lambda x : \"True\" if \"Adventure\" in x else \"False\")\n",
    "data_Genres[\"Animation\"] = data[\"genres\"].apply(lambda x : \"True\" if \"Animation\" in x else \"False\")\n",
    "data_Genres[\"Biography\"] = data[\"genres\"].apply(lambda x : \"True\" if \"Biography\" in x else \"False\")\n",
    "data_Genres[\"Comedy\"] = data[\"genres\"].apply(lambda x : \"True\" if \"Comedy\" in x else \"False\")\n",
    "data_Genres[\"Crime\"] = data[\"genres\"].apply(lambda x : \"True\" if \"Crime\" in x else \"False\")\n",
    "data_Genres[\"Documentary\"] = data[\"genres\"].apply(lambda x : \"True\" if \"Documentary\" in x else \"False\")\n",
    "data_Genres[\"Drama\"] = data[\"genres\"].apply(lambda x : \"True\" if \"Drama\" in x else \"False\")\n",
    "data_Genres[\"Family\"] = data[\"genres\"].apply(lambda x : \"True\" if \"Family\" in x else \"False\")\n",
    "data_Genres[\"Fantasy\"] = data[\"genres\"].apply(lambda x : \"True\" if \"Fantasy\" in x else \"False\")\n",
    "data_Genres[\"Film-Noir\"] = data[\"genres\"].apply(lambda x : \"True\" if \"Film-Noir\" in x else \"False\")\n",
    "data_Genres[\"History\"] = data[\"genres\"].apply(lambda x : \"True\" if \"History\" in x else \"False\")\n",
    "data_Genres[\"Horror\"] = data[\"genres\"].apply(lambda x : \"True\" if \"Horror\" in x else \"False\")\n",
    "data_Genres[\"Music\"] = data[\"genres\"].apply(lambda x : \"True\" if \"Music\" in x else \"False\")\n",
    "data_Genres[\"Musical\"] = data[\"genres\"].apply(lambda x : \"True\" if \"Musical\" in x else \"False\")\n",
    "data_Genres[\"Mystery\"] = data[\"genres\"].apply(lambda x : \"True\" if \"Mystery\" in x else \"False\")\n",
    "data_Genres[\"Romance\"] = data[\"genres\"].apply(lambda x : \"True\" if \"Romance\" in x else \"False\")\n",
    "data_Genres[\"Sci-Fi\"] = data[\"genres\"].apply(lambda x : \"True\" if \"Sci-Fi\" in x else \"False\")\n",
    "data_Genres[\"Sport\"] = data[\"genres\"].apply(lambda x : \"True\" if \"Sport\" in x else \"False\")\n",
    "data_Genres[\"Thriller\"] = data[\"genres\"].apply(lambda x : \"True\" if \"Thriller\" in x else \"False\")\n",
    "data_Genres[\"War\"] = data[\"genres\"].apply(lambda x : \"True\" if \"War\" in x else \"False\")\n",
    "data_Genres[\"Western\"] = data[\"genres\"].apply(lambda x : \"True\" if \"Western\" in x else \"False\")\n",
    "pd.set_option('display.max_columns', 30)\n",
    "data_Genres.head()"
   ]
  },
  {
   "cell_type": "code",
   "execution_count": 91,
   "metadata": {},
   "outputs": [
    {
     "data": {
      "image/png": "[encoded data removed]",
      "text/plain": [
       "<matplotlib.figure.Figure at 0x1152304a8>"
      ]
     },
     "metadata": {},
     "output_type": "display_data"
    },
    {
     "data": {
      "text/html": [
       "<div>\n",
       "<style>\n",
       "    .dataframe thead tr:only-child th {\n",
       "        text-align: right;\n",
       "    }\n",
       "\n",
       "    .dataframe thead th {\n",
       "        text-align: left;\n",
       "    }\n",
       "\n",
       "    .dataframe tbody tr th {\n",
       "        vertical-align: top;\n",
       "    }\n",
       "</style>\n",
       "<table border=\"1\" class=\"dataframe\">\n",
       "  <thead>\n",
       "    <tr style=\"text-align: right;\">\n",
       "      <th></th>\n",
       "      <th>True</th>\n",
       "    </tr>\n",
       "  </thead>\n",
       "  <tbody>\n",
       "    <tr>\n",
       "      <th>Action</th>\n",
       "      <td>826.0</td>\n",
       "    </tr>\n",
       "    <tr>\n",
       "      <th>Adventure</th>\n",
       "      <td>560.0</td>\n",
       "    </tr>\n",
       "    <tr>\n",
       "      <th>Animation</th>\n",
       "      <td>162.0</td>\n",
       "    </tr>\n",
       "    <tr>\n",
       "      <th>Biography</th>\n",
       "      <td>NaN</td>\n",
       "    </tr>\n",
       "    <tr>\n",
       "      <th>Comedy</th>\n",
       "      <td>1046.0</td>\n",
       "    </tr>\n",
       "    <tr>\n",
       "      <th>Crime</th>\n",
       "      <td>498.0</td>\n",
       "    </tr>\n",
       "    <tr>\n",
       "      <th>Documentary</th>\n",
       "      <td>27.0</td>\n",
       "    </tr>\n",
       "    <tr>\n",
       "      <th>Drama</th>\n",
       "      <td>1345.0</td>\n",
       "    </tr>\n",
       "    <tr>\n",
       "      <th>Family</th>\n",
       "      <td>322.0</td>\n",
       "    </tr>\n",
       "    <tr>\n",
       "      <th>Fantasy</th>\n",
       "      <td>289.0</td>\n",
       "    </tr>\n",
       "    <tr>\n",
       "      <th>Film-Noir</th>\n",
       "      <td>NaN</td>\n",
       "    </tr>\n",
       "    <tr>\n",
       "      <th>History</th>\n",
       "      <td>141.0</td>\n",
       "    </tr>\n",
       "    <tr>\n",
       "      <th>Horror</th>\n",
       "      <td>304.0</td>\n",
       "    </tr>\n",
       "    <tr>\n",
       "      <th>Music</th>\n",
       "      <td>105.0</td>\n",
       "    </tr>\n",
       "    <tr>\n",
       "      <th>Musical</th>\n",
       "      <td>NaN</td>\n",
       "    </tr>\n",
       "    <tr>\n",
       "      <th>Mystery</th>\n",
       "      <td>252.0</td>\n",
       "    </tr>\n",
       "    <tr>\n",
       "      <th>Romance</th>\n",
       "      <td>542.0</td>\n",
       "    </tr>\n",
       "    <tr>\n",
       "      <th>Sci-Fi</th>\n",
       "      <td>NaN</td>\n",
       "    </tr>\n",
       "    <tr>\n",
       "      <th>Sport</th>\n",
       "      <td>NaN</td>\n",
       "    </tr>\n",
       "    <tr>\n",
       "      <th>Thriller</th>\n",
       "      <td>885.0</td>\n",
       "    </tr>\n",
       "    <tr>\n",
       "      <th>War</th>\n",
       "      <td>113.0</td>\n",
       "    </tr>\n",
       "    <tr>\n",
       "      <th>Western</th>\n",
       "      <td>54.0</td>\n",
       "    </tr>\n",
       "  </tbody>\n",
       "</table>\n",
       "</div>"
      ],
      "text/plain": [
       "               True\n",
       "Action        826.0\n",
       "Adventure     560.0\n",
       "Animation     162.0\n",
       "Biography       NaN\n",
       "Comedy       1046.0\n",
       "Crime         498.0\n",
       "Documentary    27.0\n",
       "Drama        1345.0\n",
       "Family        322.0\n",
       "Fantasy       289.0\n",
       "Film-Noir       NaN\n",
       "History       141.0\n",
       "Horror        304.0\n",
       "Music         105.0\n",
       "Musical         NaN\n",
       "Mystery       252.0\n",
       "Romance       542.0\n",
       "Sci-Fi          NaN\n",
       "Sport           NaN\n",
       "Thriller      885.0\n",
       "War           113.0\n",
       "Western        54.0"
      ]
     },
     "metadata": {},
     "output_type": "display_data"
    }
   ],
   "source": [
    "data_Genres_Counts = pd.DataFrame()\n",
    "data_Genres_Counts = data_Genres.apply(pd.value_counts)\n",
    "data_Genres_Counts = data_Genres_Counts.drop(data_Genres_Counts.index[[0]])\n",
    "Genres_title = list(data_Genres_Counts.columns.values)\n",
    "Genres_index = [1,2,3,4,5,6,7,8,9,10,11,12,13,14,15,16,17,18,19,20,21,22]\n",
    "data_Genres_Counts = data_Genres_Counts.transpose()\n",
    "plt.bar(Genres_index, data_Genres_Counts[\"True\"], align='center')\n",
    "plt.xticks(Genres_index, Genres_title, rotation = 90)\n",
    "plt.show()\n",
    "pd.set_option('display.max_rows', 25)\n",
    "display(data_Genres_Counts)"
   ]
  },
  {
   "cell_type": "markdown",
   "metadata": {},
   "source": [
    "## 3. languages"
   ]
  },
  {
   "cell_type": "code",
   "execution_count": 97,
   "metadata": {},
   "outputs": [
    {
     "data": {
      "text/plain": [
       "array(['en', 'ja', 'fr', 'zh', 'es', 'de', 'hi', 'ru', 'ko', 'te', 'cn',\n",
       "       'it', 'nl', 'ta', 'sv', 'th', 'da', 'xx', 'hu', 'cs', 'pt', 'is',\n",
       "       'tr', 'nb', 'af', 'pl', 'he', 'ar', 'vi', 'ky', 'id', 'ro', 'fa',\n",
       "       'no', 'sl', 'ps', 'el'], dtype=object)"
      ]
     },
     "execution_count": 97,
     "metadata": {},
     "output_type": "execute_result"
    }
   ],
   "source": [
    "movie['original_language'].unique()"
   ]
  },
  {
   "cell_type": "code",
   "execution_count": 99,
   "metadata": {},
   "outputs": [
    {
     "data": {
      "text/plain": [
       "original_language\n",
       "en    4505\n",
       "fr      70\n",
       "es      32\n",
       "zh      27\n",
       "de      27\n",
       "hi      19\n",
       "ja      16\n",
       "it      14\n",
       "cn      12\n",
       "ko      11\n",
       "ru      11\n",
       "pt       9\n",
       "      ... \n",
       "vi       1\n",
       "el       1\n",
       "hu       1\n",
       "is       1\n",
       "sl       1\n",
       "xx       1\n",
       "ky       1\n",
       "nb       1\n",
       "no       1\n",
       "pl       1\n",
       "ps       1\n",
       "af       1\n",
       "Name: title, Length: 37, dtype: int64"
      ]
     },
     "execution_count": 99,
     "metadata": {},
     "output_type": "execute_result"
    }
   ],
   "source": [
    "movie.groupby('original_language')['title'].count().sort_values(ascending=False)"
   ]
  },
  {
   "cell_type": "markdown",
   "metadata": {},
   "source": [
    "## 4. correlation among numerical variables"
   ]
  },
  {
   "cell_type": "code",
   "execution_count": 106,
   "metadata": {},
   "outputs": [],
   "source": [
    "numeric_var = df[['budget', 'popularity', 'revenue', 'runtime', 'vote_average', 'vote_count']]"
   ]
  },
  {
   "cell_type": "code",
   "execution_count": 107,
   "metadata": {},
   "outputs": [
    {
     "data": {
      "text/html": [
       "<div>\n",
       "<style>\n",
       "    .dataframe thead tr:only-child th {\n",
       "        text-align: right;\n",
       "    }\n",
       "\n",
       "    .dataframe thead th {\n",
       "        text-align: left;\n",
       "    }\n",
       "\n",
       "    .dataframe tbody tr th {\n",
       "        vertical-align: top;\n",
       "    }\n",
       "</style>\n",
       "<table border=\"1\" class=\"dataframe\">\n",
       "  <thead>\n",
       "    <tr style=\"text-align: right;\">\n",
       "      <th></th>\n",
       "      <th>budget</th>\n",
       "      <th>popularity</th>\n",
       "      <th>revenue</th>\n",
       "      <th>runtime</th>\n",
       "      <th>vote_average</th>\n",
       "      <th>vote_count</th>\n",
       "    </tr>\n",
       "  </thead>\n",
       "  <tbody>\n",
       "    <tr>\n",
       "      <th>budget</th>\n",
       "      <td>1.000000</td>\n",
       "      <td>0.378284</td>\n",
       "      <td>0.626020</td>\n",
       "      <td>0.138258</td>\n",
       "      <td>-0.106589</td>\n",
       "      <td>0.388962</td>\n",
       "    </tr>\n",
       "    <tr>\n",
       "      <th>popularity</th>\n",
       "      <td>0.378284</td>\n",
       "      <td>1.000000</td>\n",
       "      <td>0.574345</td>\n",
       "      <td>0.159162</td>\n",
       "      <td>0.326301</td>\n",
       "      <td>0.798309</td>\n",
       "    </tr>\n",
       "    <tr>\n",
       "      <th>revenue</th>\n",
       "      <td>0.626020</td>\n",
       "      <td>0.574345</td>\n",
       "      <td>1.000000</td>\n",
       "      <td>0.139479</td>\n",
       "      <td>0.167816</td>\n",
       "      <td>0.661078</td>\n",
       "    </tr>\n",
       "    <tr>\n",
       "      <th>runtime</th>\n",
       "      <td>0.138258</td>\n",
       "      <td>0.159162</td>\n",
       "      <td>0.139479</td>\n",
       "      <td>1.000000</td>\n",
       "      <td>0.403049</td>\n",
       "      <td>0.185777</td>\n",
       "    </tr>\n",
       "    <tr>\n",
       "      <th>vote_average</th>\n",
       "      <td>-0.106589</td>\n",
       "      <td>0.326301</td>\n",
       "      <td>0.167816</td>\n",
       "      <td>0.403049</td>\n",
       "      <td>1.000000</td>\n",
       "      <td>0.393904</td>\n",
       "    </tr>\n",
       "    <tr>\n",
       "      <th>vote_count</th>\n",
       "      <td>0.388962</td>\n",
       "      <td>0.798309</td>\n",
       "      <td>0.661078</td>\n",
       "      <td>0.185777</td>\n",
       "      <td>0.393904</td>\n",
       "      <td>1.000000</td>\n",
       "    </tr>\n",
       "  </tbody>\n",
       "</table>\n",
       "</div>"
      ],
      "text/plain": [
       "                budget  popularity   revenue   runtime  vote_average  \\\n",
       "budget        1.000000    0.378284  0.626020  0.138258     -0.106589   \n",
       "popularity    0.378284    1.000000  0.574345  0.159162      0.326301   \n",
       "revenue       0.626020    0.574345  1.000000  0.139479      0.167816   \n",
       "runtime       0.138258    0.159162  0.139479  1.000000      0.403049   \n",
       "vote_average -0.106589    0.326301  0.167816  0.403049      1.000000   \n",
       "vote_count    0.388962    0.798309  0.661078  0.185777      0.393904   \n",
       "\n",
       "              vote_count  \n",
       "budget          0.388962  \n",
       "popularity      0.798309  \n",
       "revenue         0.661078  \n",
       "runtime         0.185777  \n",
       "vote_average    0.393904  \n",
       "vote_count      1.000000  "
      ]
     },
     "execution_count": 107,
     "metadata": {},
     "output_type": "execute_result"
    }
   ],
   "source": [
    "numeric_var.corr()"
   ]
  },
  {
   "cell_type": "markdown",
   "metadata": {},
   "source": [
    "## 5. production companies"
   ]
  },
  {
   "cell_type": "code",
   "execution_count": 114,
   "metadata": {},
   "outputs": [
    {
     "data": {
      "text/plain": [
       "0    ['Walt Disney Pictures', 'LivePlanet', 'Prana ...\n",
       "1    ['Village Roadshow Pictures', 'Bazmark Films',...\n",
       "2    ['Walt Disney Pictures', 'Jerry Bruckheimer Fi...\n",
       "3                                  ['New Line Cinema']\n",
       "4                                   ['Marvel Studios']\n",
       "5    ['Paramount Pictures', 'Infinitum Nihil', 'GK ...\n",
       "6    ['Todman, Simon, LeMasters Productions', 'Warn...\n",
       "7    ['Universal Pictures', 'China Film Co-Producti...\n",
       "8                 ['Universal Pictures', 'Roth Films']\n",
       "9    ['Walt Disney Pictures', 'Walt Disney Animatio...\n",
       "Name: production_companies, dtype: object"
      ]
     },
     "execution_count": 114,
     "metadata": {},
     "output_type": "execute_result"
    }
   ],
   "source": [
    "df['production_companies'].head(10)"
   ]
  },
  {
   "cell_type": "code",
   "execution_count": null,
   "metadata": {
    "collapsed": true
   },
   "outputs": [],
   "source": []
  },
  {
   "cell_type": "code",
   "execution_count": null,
   "metadata": {
    "collapsed": true
   },
   "outputs": [],
   "source": []
  },
  {
   "cell_type": "code",
   "execution_count": null,
   "metadata": {
    "collapsed": true
   },
   "outputs": [],
   "source": []
  },
  {
   "cell_type": "code",
   "execution_count": null,
   "metadata": {
    "collapsed": true
   },
   "outputs": [],
   "source": []
  },
  {
   "cell_type": "code",
   "execution_count": null,
   "metadata": {
    "collapsed": true
   },
   "outputs": [],
   "source": []
  },
  {
   "cell_type": "code",
   "execution_count": null,
   "metadata": {
    "collapsed": true
   },
   "outputs": [],
   "source": []
  },
  {
   "cell_type": "code",
   "execution_count": null,
   "metadata": {
    "collapsed": true
   },
   "outputs": [],
   "source": []
  },
  {
   "cell_type": "code",
   "execution_count": null,
   "metadata": {
    "collapsed": true
   },
   "outputs": [],
   "source": []
  },
  {
   "cell_type": "code",
   "execution_count": null,
   "metadata": {
    "collapsed": true
   },
   "outputs": [],
   "source": []
  },
  {
   "cell_type": "code",
   "execution_count": null,
   "metadata": {
    "collapsed": true
   },
   "outputs": [],
   "source": []
  },
  {
   "cell_type": "code",
   "execution_count": null,
   "metadata": {
    "collapsed": true
   },
   "outputs": [],
   "source": []
  },
  {
   "cell_type": "code",
   "execution_count": null,
   "metadata": {
    "collapsed": true
   },
   "outputs": [],
   "source": []
  },
  {
   "cell_type": "code",
   "execution_count": null,
   "metadata": {
    "collapsed": true
   },
   "outputs": [],
   "source": []
  },
  {
   "cell_type": "code",
   "execution_count": null,
   "metadata": {
    "collapsed": true
   },
   "outputs": [],
   "source": []
  },
  {
   "cell_type": "code",
   "execution_count": null,
   "metadata": {
    "collapsed": true
   },
   "outputs": [],
   "source": []
  },
  {
   "cell_type": "code",
   "execution_count": null,
   "metadata": {
    "collapsed": true
   },
   "outputs": [],
   "source": []
  },
  {
   "cell_type": "code",
   "execution_count": null,
   "metadata": {
    "collapsed": true
   },
   "outputs": [],
   "source": []
  },
  {
   "cell_type": "code",
   "execution_count": null,
   "metadata": {
    "collapsed": true
   },
   "outputs": [],
   "source": []
  },
  {
   "cell_type": "code",
   "execution_count": null,
   "metadata": {
    "collapsed": true
   },
   "outputs": [],
   "source": []
  },
  {
   "cell_type": "code",
   "execution_count": null,
   "metadata": {
    "collapsed": true
   },
   "outputs": [],
   "source": []
  },
  {
   "cell_type": "code",
   "execution_count": null,
   "metadata": {
    "collapsed": true
   },
   "outputs": [],
   "source": []
  },
  {
   "cell_type": "code",
   "execution_count": null,
   "metadata": {
    "collapsed": true
   },
   "outputs": [],
   "source": []
  },
  {
   "cell_type": "code",
   "execution_count": null,
   "metadata": {
    "collapsed": true
   },
   "outputs": [],
   "source": []
  },
  {
   "cell_type": "code",
   "execution_count": null,
   "metadata": {
    "collapsed": true
   },
   "outputs": [],
   "source": []
  },
  {
   "cell_type": "code",
   "execution_count": null,
   "metadata": {
    "collapsed": true
   },
   "outputs": [],
   "source": []
  },
  {
   "cell_type": "code",
   "execution_count": null,
   "metadata": {
    "collapsed": true
   },
   "outputs": [],
   "source": []
  },
  {
   "cell_type": "code",
   "execution_count": null,
   "metadata": {
    "collapsed": true
   },
   "outputs": [],
   "source": []
  },
  {
   "cell_type": "code",
   "execution_count": null,
   "metadata": {
    "collapsed": true
   },
   "outputs": [],
   "source": []
  },
  {
   "cell_type": "code",
   "execution_count": null,
   "metadata": {
    "collapsed": true
   },
   "outputs": [],
   "source": []
  },
  {
   "cell_type": "code",
   "execution_count": null,
   "metadata": {
    "collapsed": true
   },
   "outputs": [],
   "source": []
  },
  {
   "cell_type": "code",
   "execution_count": null,
   "metadata": {
    "collapsed": true
   },
   "outputs": [],
   "source": []
  },
  {
   "cell_type": "code",
   "execution_count": null,
   "metadata": {
    "collapsed": true
   },
   "outputs": [],
   "source": []
  },
  {
   "cell_type": "code",
   "execution_count": null,
   "metadata": {
    "collapsed": true
   },
   "outputs": [],
   "source": []
  },
  {
   "cell_type": "code",
   "execution_count": null,
   "metadata": {
    "collapsed": true
   },
   "outputs": [],
   "source": []
  },
  {
   "cell_type": "code",
   "execution_count": null,
   "metadata": {
    "collapsed": true
   },
   "outputs": [],
   "source": []
  },
  {
   "cell_type": "code",
   "execution_count": null,
   "metadata": {
    "collapsed": true
   },
   "outputs": [],
   "source": []
  },
  {
   "cell_type": "code",
   "execution_count": null,
   "metadata": {
    "collapsed": true
   },
   "outputs": [],
   "source": []
  },
  {
   "cell_type": "code",
   "execution_count": null,
   "metadata": {
    "collapsed": true
   },
   "outputs": [],
   "source": []
  },
  {
   "cell_type": "code",
   "execution_count": null,
   "metadata": {
    "collapsed": true
   },
   "outputs": [],
   "source": []
  },
  {
   "cell_type": "code",
   "execution_count": null,
   "metadata": {
    "collapsed": true
   },
   "outputs": [],
   "source": []
  },
  {
   "cell_type": "code",
   "execution_count": null,
   "metadata": {
    "collapsed": true
   },
   "outputs": [],
   "source": []
  },
  {
   "cell_type": "code",
   "execution_count": null,
   "metadata": {
    "collapsed": true
   },
   "outputs": [],
   "source": []
  },
  {
   "cell_type": "code",
   "execution_count": null,
   "metadata": {
    "collapsed": true
   },
   "outputs": [],
   "source": []
  },
  {
   "cell_type": "code",
   "execution_count": null,
   "metadata": {
    "collapsed": true
   },
   "outputs": [],
   "source": []
  },
  {
   "cell_type": "code",
   "execution_count": null,
   "metadata": {
    "collapsed": true
   },
   "outputs": [],
   "source": []
  },
  {
   "cell_type": "code",
   "execution_count": null,
   "metadata": {
    "collapsed": true
   },
   "outputs": [],
   "source": []
  },
  {
   "cell_type": "code",
   "execution_count": null,
   "metadata": {
    "collapsed": true
   },
   "outputs": [],
   "source": []
  },
  {
   "cell_type": "code",
   "execution_count": null,
   "metadata": {
    "collapsed": true
   },
   "outputs": [],
   "source": []
  },
  {
   "cell_type": "code",
   "execution_count": null,
   "metadata": {
    "collapsed": true
   },
   "outputs": [],
   "source": []
  },
  {
   "cell_type": "code",
   "execution_count": null,
   "metadata": {
    "collapsed": true
   },
   "outputs": [],
   "source": []
  },
  {
   "cell_type": "code",
   "execution_count": null,
   "metadata": {
    "collapsed": true
   },
   "outputs": [],
   "source": []
  },
  {
   "cell_type": "code",
   "execution_count": null,
   "metadata": {
    "collapsed": true
   },
   "outputs": [],
   "source": []
  },
  {
   "cell_type": "code",
   "execution_count": null,
   "metadata": {
    "collapsed": true
   },
   "outputs": [],
   "source": []
  },
  {
   "cell_type": "code",
   "execution_count": null,
   "metadata": {
    "collapsed": true
   },
   "outputs": [],
   "source": []
  },
  {
   "cell_type": "code",
   "execution_count": null,
   "metadata": {
    "collapsed": true
   },
   "outputs": [],
   "source": []
  },
  {
   "cell_type": "code",
   "execution_count": null,
   "metadata": {
    "collapsed": true
   },
   "outputs": [],
   "source": []
  },
  {
   "cell_type": "code",
   "execution_count": null,
   "metadata": {
    "collapsed": true
   },
   "outputs": [],
   "source": []
  },
  {
   "cell_type": "code",
   "execution_count": null,
   "metadata": {
    "collapsed": true
   },
   "outputs": [],
   "source": []
  },
  {
   "cell_type": "code",
   "execution_count": null,
   "metadata": {
    "collapsed": true
   },
   "outputs": [],
   "source": []
  },
  {
   "cell_type": "code",
   "execution_count": null,
   "metadata": {
    "collapsed": true
   },
   "outputs": [],
   "source": []
  },
  {
   "cell_type": "code",
   "execution_count": null,
   "metadata": {
    "collapsed": true
   },
   "outputs": [],
   "source": []
  },
  {
   "cell_type": "code",
   "execution_count": null,
   "metadata": {
    "collapsed": true
   },
   "outputs": [],
   "source": []
  }
 ],
 "metadata": {
  "kernelspec": {
   "display_name": "Python 3",
   "language": "python",
   "name": "python3"
  },
  "language_info": {
   "codemirror_mode": {
    "name": "ipython",
    "version": 3
   },
   "file_extension": ".py",
   "mimetype": "text/x-python",
   "name": "python",
   "nbconvert_exporter": "python",
   "pygments_lexer": "ipython3",
   "version": "3.6.3"
  }
 },
 "nbformat": 4,
 "nbformat_minor": 2
}
